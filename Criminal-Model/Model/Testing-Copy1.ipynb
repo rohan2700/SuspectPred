{
 "cells": [
  {
   "cell_type": "code",
   "execution_count": 1,
   "id": "e8af840b",
   "metadata": {},
   "outputs": [
    {
     "name": "stderr",
     "output_type": "stream",
     "text": [
      "C:\\Users\\yashs\\anaconda3\\envs\\pyproject\\lib\\site-packages\\numpy\\_distributor_init.py:30: UserWarning: loaded more than 1 DLL from .libs:\n",
      "C:\\Users\\yashs\\anaconda3\\envs\\pyproject\\lib\\site-packages\\numpy\\.libs\\libopenblas.FB5AE2TYXYH2IJRDKGDGQ3XBKLKTF43H.gfortran-win_amd64.dll\n",
      "C:\\Users\\yashs\\anaconda3\\envs\\pyproject\\lib\\site-packages\\numpy\\.libs\\libopenblas.WCDJNK7YVMPZQ2ME2ZZHJJRJ3JIKNDB7.gfortran-win_amd64.dll\n",
      "  warnings.warn(\"loaded more than 1 DLL from .libs:\"\n"
     ]
    }
   ],
   "source": [
    "from sklearn.linear_model import LogisticRegression # Logistic Regression\n",
    "from sklearn.neighbors import KNeighborsClassifier # K-Nearest Neighbbors\n",
    "from sklearn.tree import DecisionTreeClassifier # Decision Tree\n",
    "from sklearn.ensemble import RandomForestClassifier\n",
    "from sklearn.svm import SVC"
   ]
  },
  {
   "cell_type": "code",
   "execution_count": 2,
   "id": "a0f90b49",
   "metadata": {},
   "outputs": [],
   "source": [
    "import pandas as pd\n",
    "import numpy as np\n",
    "import matplotlib.pyplot as plt\n",
    "import seaborn as sns\n",
    "from sklearn import preprocessing\n",
    "from sklearn.preprocessing import RobustScaler\n",
    "import joblib"
   ]
  },
  {
   "cell_type": "code",
   "execution_count": 3,
   "id": "1b91c804",
   "metadata": {},
   "outputs": [],
   "source": [
    "encoded_df=pd.read_csv(\"preprocess.csv\")"
   ]
  },
  {
   "cell_type": "code",
   "execution_count": 4,
   "id": "cb552ac2",
   "metadata": {},
   "outputs": [
    {
     "data": {
      "text/plain": [
       "['NRCH17_2',\n",
       " 'IRHH65_2',\n",
       " 'GRPHLTIN',\n",
       " 'HLTINNOS',\n",
       " 'HLCLAST',\n",
       " 'IRMEDICR',\n",
       " 'IRPRVHLT',\n",
       " 'IROTHHLT',\n",
       " 'IRFAMSOC',\n",
       " 'IRPINC3',\n",
       " 'POVERTY3',\n",
       " 'Criminal']"
      ]
     },
     "execution_count": 4,
     "metadata": {},
     "output_type": "execute_result"
    }
   ],
   "source": [
    "selected_col = ['NRCH17_2','IRHH65_2','GRPHLTIN','HLTINNOS','HLCLAST','IRMEDICR',\n",
    "               'IRPRVHLT','IROTHHLT','IRFAMSOC','IRPINC3','POVERTY3','Criminal']\n",
    "selected_col"
   ]
  },
  {
   "cell_type": "code",
   "execution_count": 5,
   "id": "344532ff",
   "metadata": {},
   "outputs": [],
   "source": [
    "encoded_df=encoded_df[selected_col]"
   ]
  },
  {
   "cell_type": "code",
   "execution_count": 6,
   "id": "d43bf4b6",
   "metadata": {},
   "outputs": [
    {
     "data": {
      "text/html": [
       "<div>\n",
       "<style scoped>\n",
       "    .dataframe tbody tr th:only-of-type {\n",
       "        vertical-align: middle;\n",
       "    }\n",
       "\n",
       "    .dataframe tbody tr th {\n",
       "        vertical-align: top;\n",
       "    }\n",
       "\n",
       "    .dataframe thead th {\n",
       "        text-align: right;\n",
       "    }\n",
       "</style>\n",
       "<table border=\"1\" class=\"dataframe\">\n",
       "  <thead>\n",
       "    <tr style=\"text-align: right;\">\n",
       "      <th></th>\n",
       "      <th>NRCH17_2</th>\n",
       "      <th>IRHH65_2</th>\n",
       "      <th>GRPHLTIN</th>\n",
       "      <th>HLTINNOS</th>\n",
       "      <th>HLCLAST</th>\n",
       "      <th>IRMEDICR</th>\n",
       "      <th>IRPRVHLT</th>\n",
       "      <th>IROTHHLT</th>\n",
       "      <th>IRFAMSOC</th>\n",
       "      <th>IRPINC3</th>\n",
       "      <th>POVERTY3</th>\n",
       "      <th>Criminal</th>\n",
       "    </tr>\n",
       "  </thead>\n",
       "  <tbody>\n",
       "    <tr>\n",
       "      <th>0</th>\n",
       "      <td>2.0</td>\n",
       "      <td>1.0</td>\n",
       "      <td>99.0</td>\n",
       "      <td>99.0</td>\n",
       "      <td>99.0</td>\n",
       "      <td>2.0</td>\n",
       "      <td>2.0</td>\n",
       "      <td>99.0</td>\n",
       "      <td>2.0</td>\n",
       "      <td>1.0</td>\n",
       "      <td>2.0</td>\n",
       "      <td>0</td>\n",
       "    </tr>\n",
       "    <tr>\n",
       "      <th>1</th>\n",
       "      <td>1.0</td>\n",
       "      <td>1.0</td>\n",
       "      <td>1.0</td>\n",
       "      <td>99.0</td>\n",
       "      <td>99.0</td>\n",
       "      <td>2.0</td>\n",
       "      <td>1.0</td>\n",
       "      <td>99.0</td>\n",
       "      <td>2.0</td>\n",
       "      <td>1.0</td>\n",
       "      <td>1.0</td>\n",
       "      <td>1</td>\n",
       "    </tr>\n",
       "    <tr>\n",
       "      <th>2</th>\n",
       "      <td>1.0</td>\n",
       "      <td>1.0</td>\n",
       "      <td>99.0</td>\n",
       "      <td>99.0</td>\n",
       "      <td>99.0</td>\n",
       "      <td>2.0</td>\n",
       "      <td>2.0</td>\n",
       "      <td>99.0</td>\n",
       "      <td>1.0</td>\n",
       "      <td>2.0</td>\n",
       "      <td>1.0</td>\n",
       "      <td>0</td>\n",
       "    </tr>\n",
       "    <tr>\n",
       "      <th>3</th>\n",
       "      <td>0.0</td>\n",
       "      <td>1.0</td>\n",
       "      <td>1.0</td>\n",
       "      <td>99.0</td>\n",
       "      <td>99.0</td>\n",
       "      <td>2.0</td>\n",
       "      <td>1.0</td>\n",
       "      <td>99.0</td>\n",
       "      <td>2.0</td>\n",
       "      <td>7.0</td>\n",
       "      <td>3.0</td>\n",
       "      <td>0</td>\n",
       "    </tr>\n",
       "    <tr>\n",
       "      <th>4</th>\n",
       "      <td>0.0</td>\n",
       "      <td>1.0</td>\n",
       "      <td>99.0</td>\n",
       "      <td>99.0</td>\n",
       "      <td>99.0</td>\n",
       "      <td>2.0</td>\n",
       "      <td>2.0</td>\n",
       "      <td>99.0</td>\n",
       "      <td>2.0</td>\n",
       "      <td>1.0</td>\n",
       "      <td>1.0</td>\n",
       "      <td>0</td>\n",
       "    </tr>\n",
       "    <tr>\n",
       "      <th>...</th>\n",
       "      <td>...</td>\n",
       "      <td>...</td>\n",
       "      <td>...</td>\n",
       "      <td>...</td>\n",
       "      <td>...</td>\n",
       "      <td>...</td>\n",
       "      <td>...</td>\n",
       "      <td>...</td>\n",
       "      <td>...</td>\n",
       "      <td>...</td>\n",
       "      <td>...</td>\n",
       "      <td>...</td>\n",
       "    </tr>\n",
       "    <tr>\n",
       "      <th>45713</th>\n",
       "      <td>1.0</td>\n",
       "      <td>1.0</td>\n",
       "      <td>99.0</td>\n",
       "      <td>2.0</td>\n",
       "      <td>5.0</td>\n",
       "      <td>2.0</td>\n",
       "      <td>2.0</td>\n",
       "      <td>2.0</td>\n",
       "      <td>2.0</td>\n",
       "      <td>4.0</td>\n",
       "      <td>2.0</td>\n",
       "      <td>0</td>\n",
       "    </tr>\n",
       "    <tr>\n",
       "      <th>45714</th>\n",
       "      <td>0.0</td>\n",
       "      <td>2.0</td>\n",
       "      <td>99.0</td>\n",
       "      <td>99.0</td>\n",
       "      <td>99.0</td>\n",
       "      <td>1.0</td>\n",
       "      <td>2.0</td>\n",
       "      <td>99.0</td>\n",
       "      <td>1.0</td>\n",
       "      <td>2.0</td>\n",
       "      <td>3.0</td>\n",
       "      <td>0</td>\n",
       "    </tr>\n",
       "    <tr>\n",
       "      <th>45715</th>\n",
       "      <td>0.0</td>\n",
       "      <td>2.0</td>\n",
       "      <td>99.0</td>\n",
       "      <td>2.0</td>\n",
       "      <td>2.0</td>\n",
       "      <td>2.0</td>\n",
       "      <td>2.0</td>\n",
       "      <td>2.0</td>\n",
       "      <td>1.0</td>\n",
       "      <td>2.0</td>\n",
       "      <td>2.0</td>\n",
       "      <td>0</td>\n",
       "    </tr>\n",
       "    <tr>\n",
       "      <th>45716</th>\n",
       "      <td>0.0</td>\n",
       "      <td>1.0</td>\n",
       "      <td>99.0</td>\n",
       "      <td>1.0</td>\n",
       "      <td>99.0</td>\n",
       "      <td>2.0</td>\n",
       "      <td>2.0</td>\n",
       "      <td>1.0</td>\n",
       "      <td>2.0</td>\n",
       "      <td>4.0</td>\n",
       "      <td>3.0</td>\n",
       "      <td>0</td>\n",
       "    </tr>\n",
       "    <tr>\n",
       "      <th>45717</th>\n",
       "      <td>0.0</td>\n",
       "      <td>1.0</td>\n",
       "      <td>1.0</td>\n",
       "      <td>99.0</td>\n",
       "      <td>99.0</td>\n",
       "      <td>2.0</td>\n",
       "      <td>1.0</td>\n",
       "      <td>99.0</td>\n",
       "      <td>2.0</td>\n",
       "      <td>6.0</td>\n",
       "      <td>3.0</td>\n",
       "      <td>0</td>\n",
       "    </tr>\n",
       "  </tbody>\n",
       "</table>\n",
       "<p>45718 rows × 12 columns</p>\n",
       "</div>"
      ],
      "text/plain": [
       "       NRCH17_2  IRHH65_2  GRPHLTIN  HLTINNOS  HLCLAST  IRMEDICR  IRPRVHLT  \\\n",
       "0           2.0       1.0      99.0      99.0     99.0       2.0       2.0   \n",
       "1           1.0       1.0       1.0      99.0     99.0       2.0       1.0   \n",
       "2           1.0       1.0      99.0      99.0     99.0       2.0       2.0   \n",
       "3           0.0       1.0       1.0      99.0     99.0       2.0       1.0   \n",
       "4           0.0       1.0      99.0      99.0     99.0       2.0       2.0   \n",
       "...         ...       ...       ...       ...      ...       ...       ...   \n",
       "45713       1.0       1.0      99.0       2.0      5.0       2.0       2.0   \n",
       "45714       0.0       2.0      99.0      99.0     99.0       1.0       2.0   \n",
       "45715       0.0       2.0      99.0       2.0      2.0       2.0       2.0   \n",
       "45716       0.0       1.0      99.0       1.0     99.0       2.0       2.0   \n",
       "45717       0.0       1.0       1.0      99.0     99.0       2.0       1.0   \n",
       "\n",
       "       IROTHHLT  IRFAMSOC  IRPINC3  POVERTY3  Criminal  \n",
       "0          99.0       2.0      1.0       2.0         0  \n",
       "1          99.0       2.0      1.0       1.0         1  \n",
       "2          99.0       1.0      2.0       1.0         0  \n",
       "3          99.0       2.0      7.0       3.0         0  \n",
       "4          99.0       2.0      1.0       1.0         0  \n",
       "...         ...       ...      ...       ...       ...  \n",
       "45713       2.0       2.0      4.0       2.0         0  \n",
       "45714      99.0       1.0      2.0       3.0         0  \n",
       "45715       2.0       1.0      2.0       2.0         0  \n",
       "45716       1.0       2.0      4.0       3.0         0  \n",
       "45717      99.0       2.0      6.0       3.0         0  \n",
       "\n",
       "[45718 rows x 12 columns]"
      ]
     },
     "execution_count": 6,
     "metadata": {},
     "output_type": "execute_result"
    }
   ],
   "source": [
    "encoded_df"
   ]
  },
  {
   "cell_type": "code",
   "execution_count": 7,
   "id": "57c84945",
   "metadata": {},
   "outputs": [],
   "source": [
    "to_scale = [col for col in encoded_df.columns if encoded_df[col].max()>1]\n",
    "scaler = RobustScaler()\n",
    "scaled =scaler.fit_transform(encoded_df[to_scale])\n",
    "scaled = pd.DataFrame(scaled, columns=to_scale)"
   ]
  },
  {
   "cell_type": "code",
   "execution_count": 8,
   "id": "49d3b9c0",
   "metadata": {},
   "outputs": [],
   "source": [
    "NRCH17_2='0'\n",
    "IRHH65_2='1'\n",
    "GRPHLTIN='1'\n",
    "HLTINNOS='99'\n",
    "HLCLAST='99'\n",
    "IRMEDICR='2'\n",
    "IRPRVHLT='1'\n",
    "IROTHHLT='99'\n",
    "IRFAMSOC='2'\n",
    "IRPINC3='1'\n",
    "POVERTY3='2'"
   ]
  },
  {
   "cell_type": "code",
   "execution_count": 9,
   "id": "63cb45b6",
   "metadata": {},
   "outputs": [],
   "source": [
    "data = {'NRCH17_2': float(NRCH17_2),\n",
    "        'IRHH65_2': float(IRHH65_2),\n",
    "        'GRPHLTIN': float(GRPHLTIN),\n",
    "        'HLTINNOS': float(HLTINNOS),\n",
    "        'HLCLAST': float(HLCLAST),\n",
    "        'IRMEDICR': float(IRMEDICR),\n",
    "        'IRPRVHLT': float(IRPRVHLT),\n",
    "        'IROTHHLT': float(IROTHHLT),\n",
    "        'IRFAMSOC': float(IRFAMSOC),\n",
    "        'IRPINC3': float(IRPINC3),\n",
    "        'POVERTY3': float(POVERTY3)}\n",
    "\n",
    "# Creating DataFrame from the dictionary\n",
    "df=pd.DataFrame(data,index=[0])"
   ]
  },
  {
   "cell_type": "code",
   "execution_count": 10,
   "id": "0597657c",
   "metadata": {},
   "outputs": [],
   "source": [
    "df2=scaler.transform(df[to_scale])    \n",
    "df2=pd.DataFrame(df2,columns=to_scale)"
   ]
  },
  {
   "cell_type": "code",
   "execution_count": 11,
   "id": "132eec16",
   "metadata": {},
   "outputs": [
    {
     "data": {
      "text/html": [
       "<div>\n",
       "<style scoped>\n",
       "    .dataframe tbody tr th:only-of-type {\n",
       "        vertical-align: middle;\n",
       "    }\n",
       "\n",
       "    .dataframe tbody tr th {\n",
       "        vertical-align: top;\n",
       "    }\n",
       "\n",
       "    .dataframe thead th {\n",
       "        text-align: right;\n",
       "    }\n",
       "</style>\n",
       "<table border=\"1\" class=\"dataframe\">\n",
       "  <thead>\n",
       "    <tr style=\"text-align: right;\">\n",
       "      <th></th>\n",
       "      <th>NRCH17_2</th>\n",
       "      <th>IRHH65_2</th>\n",
       "      <th>GRPHLTIN</th>\n",
       "      <th>HLTINNOS</th>\n",
       "      <th>HLCLAST</th>\n",
       "      <th>IRMEDICR</th>\n",
       "      <th>IRPRVHLT</th>\n",
       "      <th>IROTHHLT</th>\n",
       "      <th>IRFAMSOC</th>\n",
       "      <th>IRPINC3</th>\n",
       "      <th>POVERTY3</th>\n",
       "    </tr>\n",
       "  </thead>\n",
       "  <tbody>\n",
       "    <tr>\n",
       "      <th>0</th>\n",
       "      <td>0.0</td>\n",
       "      <td>0.0</td>\n",
       "      <td>0.0</td>\n",
       "      <td>0.0</td>\n",
       "      <td>0.0</td>\n",
       "      <td>0.0</td>\n",
       "      <td>0.0</td>\n",
       "      <td>0.0</td>\n",
       "      <td>0.0</td>\n",
       "      <td>-0.333333</td>\n",
       "      <td>-1.0</td>\n",
       "    </tr>\n",
       "  </tbody>\n",
       "</table>\n",
       "</div>"
      ],
      "text/plain": [
       "   NRCH17_2  IRHH65_2  GRPHLTIN  HLTINNOS  HLCLAST  IRMEDICR  IRPRVHLT  \\\n",
       "0       0.0       0.0       0.0       0.0      0.0       0.0       0.0   \n",
       "\n",
       "   IROTHHLT  IRFAMSOC   IRPINC3  POVERTY3  \n",
       "0       0.0       0.0 -0.333333      -1.0  "
      ]
     },
     "execution_count": 11,
     "metadata": {},
     "output_type": "execute_result"
    }
   ],
   "source": [
    "df2"
   ]
  },
  {
   "cell_type": "code",
   "execution_count": 12,
   "id": "a1236e94",
   "metadata": {},
   "outputs": [
    {
     "name": "stdout",
     "output_type": "stream",
     "text": [
      "models/RandomForestClassifier_Classify_model.joblib\n"
     ]
    }
   ],
   "source": [
    "model_filename1 = \"models/RandomForestClassifier_Classify_model.joblib\"\n",
    "print(model_filename1)\n",
    "loaded_model1 = joblib.load(model_filename1)\n",
    "new_predictions = loaded_model1.predict(df2)"
   ]
  },
  {
   "cell_type": "code",
   "execution_count": 13,
   "id": "f0ac8388",
   "metadata": {},
   "outputs": [
    {
     "data": {
      "text/plain": [
       "array([1], dtype=int64)"
      ]
     },
     "execution_count": 13,
     "metadata": {},
     "output_type": "execute_result"
    }
   ],
   "source": [
    "new_predictions"
   ]
  },
  {
   "cell_type": "code",
   "execution_count": null,
   "id": "38f8dadd",
   "metadata": {},
   "outputs": [],
   "source": []
  },
  {
   "cell_type": "code",
   "execution_count": null,
   "id": "bf9d2dbf",
   "metadata": {},
   "outputs": [],
   "source": []
  }
 ],
 "metadata": {
  "kernelspec": {
   "display_name": "Python 3 (ipykernel)",
   "language": "python",
   "name": "python3"
  },
  "language_info": {
   "codemirror_mode": {
    "name": "ipython",
    "version": 3
   },
   "file_extension": ".py",
   "mimetype": "text/x-python",
   "name": "python",
   "nbconvert_exporter": "python",
   "pygments_lexer": "ipython3",
   "version": "3.8.18"
  }
 },
 "nbformat": 4,
 "nbformat_minor": 5
}
