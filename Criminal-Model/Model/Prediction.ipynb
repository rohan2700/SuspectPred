{
 "cells": [
  {
   "cell_type": "code",
   "execution_count": 1,
   "id": "ceeab81b",
   "metadata": {},
   "outputs": [
    {
     "name": "stderr",
     "output_type": "stream",
     "text": [
      "C:\\Users\\yashs\\anaconda3\\envs\\pyproject\\lib\\site-packages\\numpy\\_distributor_init.py:30: UserWarning: loaded more than 1 DLL from .libs:\n",
      "C:\\Users\\yashs\\anaconda3\\envs\\pyproject\\lib\\site-packages\\numpy\\.libs\\libopenblas.FB5AE2TYXYH2IJRDKGDGQ3XBKLKTF43H.gfortran-win_amd64.dll\n",
      "C:\\Users\\yashs\\anaconda3\\envs\\pyproject\\lib\\site-packages\\numpy\\.libs\\libopenblas.WCDJNK7YVMPZQ2ME2ZZHJJRJ3JIKNDB7.gfortran-win_amd64.dll\n",
      "  warnings.warn(\"loaded more than 1 DLL from .libs:\"\n"
     ]
    }
   ],
   "source": [
    "from sklearn.linear_model import LogisticRegression # Logistic Regression\n",
    "from sklearn.neighbors import KNeighborsClassifier # K-Nearest Neighbbors\n",
    "from sklearn.tree import DecisionTreeClassifier # Decision Tree\n",
    "from sklearn.ensemble import RandomForestClassifier\n",
    "from sklearn.svm import SVC"
   ]
  },
  {
   "cell_type": "code",
   "execution_count": 2,
   "id": "40682050",
   "metadata": {},
   "outputs": [],
   "source": [
    "import pandas as pd\n",
    "import numpy as np\n",
    "import matplotlib.pyplot as plt\n",
    "import seaborn as sns\n",
    "from sklearn import preprocessing\n",
    "from sklearn.preprocessing import RobustScaler"
   ]
  },
  {
   "cell_type": "code",
   "execution_count": 3,
   "id": "9376d062",
   "metadata": {},
   "outputs": [],
   "source": [
    "df_train=pd.read_csv(\"Dataset/criminal_train.csv\")"
   ]
  },
  {
   "cell_type": "code",
   "execution_count": 4,
   "id": "d9a26d2b",
   "metadata": {},
   "outputs": [
    {
     "data": {
      "text/html": [
       "<div>\n",
       "<style scoped>\n",
       "    .dataframe tbody tr th:only-of-type {\n",
       "        vertical-align: middle;\n",
       "    }\n",
       "\n",
       "    .dataframe tbody tr th {\n",
       "        vertical-align: top;\n",
       "    }\n",
       "\n",
       "    .dataframe thead th {\n",
       "        text-align: right;\n",
       "    }\n",
       "</style>\n",
       "<table border=\"1\" class=\"dataframe\">\n",
       "  <thead>\n",
       "    <tr style=\"text-align: right;\">\n",
       "      <th></th>\n",
       "      <th>PERID</th>\n",
       "      <th>IFATHER</th>\n",
       "      <th>NRCH17_2</th>\n",
       "      <th>IRHHSIZ2</th>\n",
       "      <th>IIHHSIZ2</th>\n",
       "      <th>IRKI17_2</th>\n",
       "      <th>IIKI17_2</th>\n",
       "      <th>IRHH65_2</th>\n",
       "      <th>IIHH65_2</th>\n",
       "      <th>PRXRETRY</th>\n",
       "      <th>...</th>\n",
       "      <th>TOOLONG</th>\n",
       "      <th>TROUBUND</th>\n",
       "      <th>PDEN10</th>\n",
       "      <th>COUTYP2</th>\n",
       "      <th>MAIIN102</th>\n",
       "      <th>AIIND102</th>\n",
       "      <th>ANALWT_C</th>\n",
       "      <th>VESTR</th>\n",
       "      <th>VEREP</th>\n",
       "      <th>Criminal</th>\n",
       "    </tr>\n",
       "  </thead>\n",
       "  <tbody>\n",
       "    <tr>\n",
       "      <th>0</th>\n",
       "      <td>25095143</td>\n",
       "      <td>4</td>\n",
       "      <td>2</td>\n",
       "      <td>4</td>\n",
       "      <td>1</td>\n",
       "      <td>3</td>\n",
       "      <td>1</td>\n",
       "      <td>1</td>\n",
       "      <td>1</td>\n",
       "      <td>99</td>\n",
       "      <td>...</td>\n",
       "      <td>1</td>\n",
       "      <td>2</td>\n",
       "      <td>1</td>\n",
       "      <td>1</td>\n",
       "      <td>2</td>\n",
       "      <td>2</td>\n",
       "      <td>3884.805998</td>\n",
       "      <td>40026</td>\n",
       "      <td>1</td>\n",
       "      <td>0</td>\n",
       "    </tr>\n",
       "    <tr>\n",
       "      <th>1</th>\n",
       "      <td>13005143</td>\n",
       "      <td>4</td>\n",
       "      <td>1</td>\n",
       "      <td>3</td>\n",
       "      <td>1</td>\n",
       "      <td>2</td>\n",
       "      <td>1</td>\n",
       "      <td>1</td>\n",
       "      <td>1</td>\n",
       "      <td>99</td>\n",
       "      <td>...</td>\n",
       "      <td>2</td>\n",
       "      <td>2</td>\n",
       "      <td>2</td>\n",
       "      <td>3</td>\n",
       "      <td>2</td>\n",
       "      <td>2</td>\n",
       "      <td>1627.108106</td>\n",
       "      <td>40015</td>\n",
       "      <td>2</td>\n",
       "      <td>1</td>\n",
       "    </tr>\n",
       "    <tr>\n",
       "      <th>2</th>\n",
       "      <td>67415143</td>\n",
       "      <td>4</td>\n",
       "      <td>1</td>\n",
       "      <td>2</td>\n",
       "      <td>1</td>\n",
       "      <td>2</td>\n",
       "      <td>1</td>\n",
       "      <td>1</td>\n",
       "      <td>1</td>\n",
       "      <td>99</td>\n",
       "      <td>...</td>\n",
       "      <td>2</td>\n",
       "      <td>2</td>\n",
       "      <td>2</td>\n",
       "      <td>3</td>\n",
       "      <td>2</td>\n",
       "      <td>2</td>\n",
       "      <td>4344.957980</td>\n",
       "      <td>40024</td>\n",
       "      <td>1</td>\n",
       "      <td>0</td>\n",
       "    </tr>\n",
       "    <tr>\n",
       "      <th>3</th>\n",
       "      <td>70925143</td>\n",
       "      <td>4</td>\n",
       "      <td>0</td>\n",
       "      <td>2</td>\n",
       "      <td>1</td>\n",
       "      <td>1</td>\n",
       "      <td>1</td>\n",
       "      <td>1</td>\n",
       "      <td>1</td>\n",
       "      <td>99</td>\n",
       "      <td>...</td>\n",
       "      <td>2</td>\n",
       "      <td>2</td>\n",
       "      <td>1</td>\n",
       "      <td>1</td>\n",
       "      <td>2</td>\n",
       "      <td>2</td>\n",
       "      <td>792.521931</td>\n",
       "      <td>40027</td>\n",
       "      <td>1</td>\n",
       "      <td>0</td>\n",
       "    </tr>\n",
       "    <tr>\n",
       "      <th>4</th>\n",
       "      <td>75235143</td>\n",
       "      <td>1</td>\n",
       "      <td>0</td>\n",
       "      <td>6</td>\n",
       "      <td>1</td>\n",
       "      <td>4</td>\n",
       "      <td>1</td>\n",
       "      <td>1</td>\n",
       "      <td>1</td>\n",
       "      <td>99</td>\n",
       "      <td>...</td>\n",
       "      <td>2</td>\n",
       "      <td>2</td>\n",
       "      <td>2</td>\n",
       "      <td>2</td>\n",
       "      <td>2</td>\n",
       "      <td>2</td>\n",
       "      <td>1518.118526</td>\n",
       "      <td>40001</td>\n",
       "      <td>2</td>\n",
       "      <td>0</td>\n",
       "    </tr>\n",
       "  </tbody>\n",
       "</table>\n",
       "<p>5 rows × 72 columns</p>\n",
       "</div>"
      ],
      "text/plain": [
       "      PERID  IFATHER  NRCH17_2  IRHHSIZ2  IIHHSIZ2  IRKI17_2  IIKI17_2  \\\n",
       "0  25095143        4         2         4         1         3         1   \n",
       "1  13005143        4         1         3         1         2         1   \n",
       "2  67415143        4         1         2         1         2         1   \n",
       "3  70925143        4         0         2         1         1         1   \n",
       "4  75235143        1         0         6         1         4         1   \n",
       "\n",
       "   IRHH65_2  IIHH65_2  PRXRETRY  ...  TOOLONG  TROUBUND  PDEN10  COUTYP2  \\\n",
       "0         1         1        99  ...        1         2       1        1   \n",
       "1         1         1        99  ...        2         2       2        3   \n",
       "2         1         1        99  ...        2         2       2        3   \n",
       "3         1         1        99  ...        2         2       1        1   \n",
       "4         1         1        99  ...        2         2       2        2   \n",
       "\n",
       "   MAIIN102  AIIND102     ANALWT_C  VESTR  VEREP  Criminal  \n",
       "0         2         2  3884.805998  40026      1         0  \n",
       "1         2         2  1627.108106  40015      2         1  \n",
       "2         2         2  4344.957980  40024      1         0  \n",
       "3         2         2   792.521931  40027      1         0  \n",
       "4         2         2  1518.118526  40001      2         0  \n",
       "\n",
       "[5 rows x 72 columns]"
      ]
     },
     "execution_count": 4,
     "metadata": {},
     "output_type": "execute_result"
    }
   ],
   "source": [
    "df_train.head()"
   ]
  },
  {
   "cell_type": "code",
   "execution_count": 5,
   "id": "21d8aa37",
   "metadata": {},
   "outputs": [
    {
     "name": "stdout",
     "output_type": "stream",
     "text": [
      "<class 'pandas.core.frame.DataFrame'>\n",
      "RangeIndex: 45718 entries, 0 to 45717\n",
      "Data columns (total 72 columns):\n",
      " #   Column     Non-Null Count  Dtype  \n",
      "---  ------     --------------  -----  \n",
      " 0   PERID      45718 non-null  int64  \n",
      " 1   IFATHER    45718 non-null  int64  \n",
      " 2   NRCH17_2   45718 non-null  int64  \n",
      " 3   IRHHSIZ2   45718 non-null  int64  \n",
      " 4   IIHHSIZ2   45718 non-null  int64  \n",
      " 5   IRKI17_2   45718 non-null  int64  \n",
      " 6   IIKI17_2   45718 non-null  int64  \n",
      " 7   IRHH65_2   45718 non-null  int64  \n",
      " 8   IIHH65_2   45718 non-null  int64  \n",
      " 9   PRXRETRY   45718 non-null  int64  \n",
      " 10  PRXYDATA   45718 non-null  int64  \n",
      " 11  MEDICARE   45718 non-null  int64  \n",
      " 12  CAIDCHIP   45718 non-null  int64  \n",
      " 13  CHAMPUS    45718 non-null  int64  \n",
      " 14  PRVHLTIN   45718 non-null  int64  \n",
      " 15  GRPHLTIN   45718 non-null  int64  \n",
      " 16  HLTINNOS   45718 non-null  int64  \n",
      " 17  HLCNOTYR   45718 non-null  int64  \n",
      " 18  HLCNOTMO   45718 non-null  int64  \n",
      " 19  HLCLAST    45718 non-null  int64  \n",
      " 20  HLLOSRSN   45718 non-null  int64  \n",
      " 21  HLNVCOST   45718 non-null  int64  \n",
      " 22  HLNVOFFR   45718 non-null  int64  \n",
      " 23  HLNVREF    45718 non-null  int64  \n",
      " 24  HLNVNEED   45718 non-null  int64  \n",
      " 25  HLNVSOR    45718 non-null  int64  \n",
      " 26  IRMCDCHP   45718 non-null  int64  \n",
      " 27  IIMCDCHP   45718 non-null  int64  \n",
      " 28  IRMEDICR   45718 non-null  int64  \n",
      " 29  IIMEDICR   45718 non-null  int64  \n",
      " 30  IRCHMPUS   45718 non-null  int64  \n",
      " 31  IICHMPUS   45718 non-null  int64  \n",
      " 32  IRPRVHLT   45718 non-null  int64  \n",
      " 33  IIPRVHLT   45718 non-null  int64  \n",
      " 34  IROTHHLT   45718 non-null  int64  \n",
      " 35  IIOTHHLT   45718 non-null  int64  \n",
      " 36  HLCALLFG   45718 non-null  int64  \n",
      " 37  HLCALL99   45718 non-null  int64  \n",
      " 38  ANYHLTI2   45718 non-null  int64  \n",
      " 39  IRINSUR4   45718 non-null  int64  \n",
      " 40  IIINSUR4   45718 non-null  int64  \n",
      " 41  OTHINS     45718 non-null  int64  \n",
      " 42  CELLNOTCL  45718 non-null  int64  \n",
      " 43  CELLWRKNG  45718 non-null  int64  \n",
      " 44  IRFAMSOC   45718 non-null  int64  \n",
      " 45  IIFAMSOC   45718 non-null  int64  \n",
      " 46  IRFAMSSI   45718 non-null  int64  \n",
      " 47  IIFAMSSI   45718 non-null  int64  \n",
      " 48  IRFSTAMP   45718 non-null  int64  \n",
      " 49  IIFSTAMP   45718 non-null  int64  \n",
      " 50  IRFAMPMT   45718 non-null  int64  \n",
      " 51  IIFAMPMT   45718 non-null  int64  \n",
      " 52  IRFAMSVC   45718 non-null  int64  \n",
      " 53  IIFAMSVC   45718 non-null  int64  \n",
      " 54  IRWELMOS   45718 non-null  int64  \n",
      " 55  IIWELMOS   45718 non-null  int64  \n",
      " 56  IRPINC3    45718 non-null  int64  \n",
      " 57  IRFAMIN3   45718 non-null  int64  \n",
      " 58  IIPINC3    45718 non-null  int64  \n",
      " 59  IIFAMIN3   45718 non-null  int64  \n",
      " 60  GOVTPROG   45718 non-null  int64  \n",
      " 61  POVERTY3   45718 non-null  int64  \n",
      " 62  TOOLONG    45718 non-null  int64  \n",
      " 63  TROUBUND   45718 non-null  int64  \n",
      " 64  PDEN10     45718 non-null  int64  \n",
      " 65  COUTYP2    45718 non-null  int64  \n",
      " 66  MAIIN102   45718 non-null  int64  \n",
      " 67  AIIND102   45718 non-null  int64  \n",
      " 68  ANALWT_C   45718 non-null  float64\n",
      " 69  VESTR      45718 non-null  int64  \n",
      " 70  VEREP      45718 non-null  int64  \n",
      " 71  Criminal   45718 non-null  int64  \n",
      "dtypes: float64(1), int64(71)\n",
      "memory usage: 25.1 MB\n"
     ]
    }
   ],
   "source": [
    "df_train.info()"
   ]
  },
  {
   "cell_type": "code",
   "execution_count": 6,
   "id": "d7df1743",
   "metadata": {},
   "outputs": [
    {
     "data": {
      "text/plain": [
       "Index(['PERID', 'IFATHER', 'NRCH17_2', 'IRHHSIZ2', 'IIHHSIZ2', 'IRKI17_2',\n",
       "       'IIKI17_2', 'IRHH65_2', 'IIHH65_2', 'PRXRETRY', 'PRXYDATA', 'MEDICARE',\n",
       "       'CAIDCHIP', 'CHAMPUS', 'PRVHLTIN', 'GRPHLTIN', 'HLTINNOS', 'HLCNOTYR',\n",
       "       'HLCNOTMO', 'HLCLAST', 'HLLOSRSN', 'HLNVCOST', 'HLNVOFFR', 'HLNVREF',\n",
       "       'HLNVNEED', 'HLNVSOR', 'IRMCDCHP', 'IIMCDCHP', 'IRMEDICR', 'IIMEDICR',\n",
       "       'IRCHMPUS', 'IICHMPUS', 'IRPRVHLT', 'IIPRVHLT', 'IROTHHLT', 'IIOTHHLT',\n",
       "       'HLCALLFG', 'HLCALL99', 'ANYHLTI2', 'IRINSUR4', 'IIINSUR4', 'OTHINS',\n",
       "       'CELLNOTCL', 'CELLWRKNG', 'IRFAMSOC', 'IIFAMSOC', 'IRFAMSSI',\n",
       "       'IIFAMSSI', 'IRFSTAMP', 'IIFSTAMP', 'IRFAMPMT', 'IIFAMPMT', 'IRFAMSVC',\n",
       "       'IIFAMSVC', 'IRWELMOS', 'IIWELMOS', 'IRPINC3', 'IRFAMIN3', 'IIPINC3',\n",
       "       'IIFAMIN3', 'GOVTPROG', 'POVERTY3', 'TOOLONG', 'TROUBUND', 'PDEN10',\n",
       "       'COUTYP2', 'MAIIN102', 'AIIND102', 'ANALWT_C', 'VESTR', 'VEREP',\n",
       "       'Criminal'],\n",
       "      dtype='object')"
      ]
     },
     "execution_count": 6,
     "metadata": {},
     "output_type": "execute_result"
    }
   ],
   "source": [
    "df_train.columns"
   ]
  },
  {
   "cell_type": "code",
   "execution_count": 7,
   "id": "123e5faa",
   "metadata": {},
   "outputs": [],
   "source": [
    "df_train.dropna(inplace=True)"
   ]
  },
  {
   "cell_type": "code",
   "execution_count": 8,
   "id": "1839fb78",
   "metadata": {},
   "outputs": [
    {
     "data": {
      "text/plain": [
       "[(0, 42543), (1, 3175)]"
      ]
     },
     "execution_count": 8,
     "metadata": {},
     "output_type": "execute_result"
    }
   ],
   "source": [
    "def getLabelCount(df,target):\n",
    "    return sorted([( labelValue,len(df.loc[df[target] == labelValue]) ) for labelValue in df[target].unique()])\n",
    "TARGET = \"Criminal\"\n",
    "labelCount = getLabelCount(df_train,TARGET)\n",
    "labelCount"
   ]
  },
  {
   "cell_type": "code",
   "execution_count": 9,
   "id": "10eadf4a",
   "metadata": {},
   "outputs": [
    {
     "data": {
      "text/plain": [
       "<AxesSubplot:xlabel='Criminal'>"
      ]
     },
     "execution_count": 9,
     "metadata": {},
     "output_type": "execute_result"
    },
    {
     "data": {
      "image/png": "[encoded data removed]",
      "text/plain": [
       "<Figure size 640x480 with 1 Axes>"
      ]
     },
     "metadata": {},
     "output_type": "display_data"
    }
   ],
   "source": [
    "df_train['Criminal'].value_counts().plot(kind='bar')"
   ]
  },
  {
   "cell_type": "code",
   "execution_count": 10,
   "id": "a3f2eee0",
   "metadata": {},
   "outputs": [],
   "source": [
    "def convertToFloat(df):\n",
    "    df1 = df.copy()\n",
    "    \n",
    "    for column in df.columns:\n",
    "        if df[column].dtype == 'int64' and column != 'Criminal':\n",
    "            df[column] = df[column].astype(float)\n",
    "    return df\n",
    "\n",
    "encoded_df = convertToFloat(df_train)"
   ]
  },
  {
   "cell_type": "code",
   "execution_count": 11,
   "id": "2a402fbd",
   "metadata": {},
   "outputs": [],
   "source": [
    "b=df_train\n",
    "b.to_csv(\"preprocess.csv\")"
   ]
  },
  {
   "cell_type": "code",
   "execution_count": 12,
   "id": "5ad46e84",
   "metadata": {},
   "outputs": [],
   "source": [
    "corrmat = encoded_df.corr()\n",
    "top_corr_features = corrmat.index"
   ]
  },
  {
   "cell_type": "code",
   "execution_count": 13,
   "id": "51095869",
   "metadata": {},
   "outputs": [
    {
     "name": "stdout",
     "output_type": "stream",
     "text": [
      "for  0.0005\n",
      "IFATHER     0.049935\n",
      "NRCH17_2    0.091212\n",
      "IRHHSIZ2    0.068281\n",
      "IIHHSIZ2    0.009238\n",
      "IRKI17_2    0.039168\n",
      "              ...   \n",
      "AIIND102    0.001484\n",
      "ANALWT_C    0.020863\n",
      "VESTR       0.002355\n",
      "VEREP       0.007738\n",
      "Criminal    1.000000\n",
      "Name: Criminal, Length: 71, dtype: float64\n",
      "------------------\n",
      "for  0.005\n",
      "IFATHER     0.049935\n",
      "NRCH17_2    0.091212\n",
      "IRHHSIZ2    0.068281\n",
      "IIHHSIZ2    0.009238\n",
      "IRKI17_2    0.039168\n",
      "              ...   \n",
      "PDEN10      0.033048\n",
      "COUTYP2     0.031587\n",
      "ANALWT_C    0.020863\n",
      "VEREP       0.007738\n",
      "Criminal    1.000000\n",
      "Name: Criminal, Length: 61, dtype: float64\n",
      "------------------\n",
      "for  0.09\n",
      "NRCH17_2    0.091212\n",
      "IRHH65_2    0.112589\n",
      "GRPHLTIN    0.194188\n",
      "HLTINNOS    0.106967\n",
      "HLCLAST     0.091338\n",
      "IRMEDICR    0.144131\n",
      "IRPRVHLT    0.204797\n",
      "IIPRVHLT    0.103360\n",
      "IROTHHLT    0.104196\n",
      "IIOTHHLT    0.095032\n",
      "IRFAMSOC    0.110676\n",
      "IRPINC3     0.128830\n",
      "IRFAMIN3    0.194889\n",
      "POVERTY3    0.148304\n",
      "Criminal    1.000000\n",
      "Name: Criminal, dtype: float64\n",
      "------------------\n",
      "for  0.5\n",
      "Criminal    1.0\n",
      "Name: Criminal, dtype: float64\n",
      "------------------\n"
     ]
    }
   ],
   "source": [
    "correlationdistance=[0.0005,0.005,0.09,0.5]\n",
    "#Correlation with output variable\n",
    "cor_target = abs(encoded_df[top_corr_features].corr()[\"Criminal\"])\n",
    "for correVal in correlationdistance:\n",
    "#Selecting highly correlated features\n",
    "    relevant_features = cor_target[cor_target>correVal]\n",
    "    print('for ',correVal)\n",
    "    print(relevant_features)\n",
    "    print('------------------')"
   ]
  },
  {
   "cell_type": "code",
   "execution_count": 14,
   "id": "cc669495",
   "metadata": {},
   "outputs": [],
   "source": [
    "# 'NRCH17_2': Number of Children Aged 0-17 in Household\n",
    "# 'IRHH65_2': Number of Household Members Aged 65 or Older (Interview)\n",
    "# 'GRPHLTIN': Group Health Plan Coverage\n",
    "# 'HLTINNOS': Health Insurance Type - Other\n",
    "# 'HLCLAST': Time Since Last Health Insurance Type Change\n",
    "# 'IRMEDICR': Medicare (Imputed)\n",
    "# 'IRPRVHLT': Private Health Insurance (Imputed)\n",
    "# 'IROTHHLT': Other Health Insurance (Imputed)\n",
    "# 'IRFAMSOC': Family's Social Class (Interview)\n",
    "# 'IRPINC3': Family's Poverty Income Ratio (Interview)\n",
    "# 'POVERTY3': Poverty Level\n",
    "# 'Criminal': Binary variable indicating criminal activity (assuming based on the name)"
   ]
  },
  {
   "cell_type": "code",
   "execution_count": 15,
   "id": "dd3faf9d",
   "metadata": {},
   "outputs": [
    {
     "data": {
      "text/plain": [
       "['NRCH17_2',\n",
       " 'IRHH65_2',\n",
       " 'GRPHLTIN',\n",
       " 'HLTINNOS',\n",
       " 'HLCLAST',\n",
       " 'IRMEDICR',\n",
       " 'IRPRVHLT',\n",
       " 'IROTHHLT',\n",
       " 'IRFAMSOC',\n",
       " 'IRPINC3',\n",
       " 'POVERTY3',\n",
       " 'Criminal']"
      ]
     },
     "execution_count": 15,
     "metadata": {},
     "output_type": "execute_result"
    }
   ],
   "source": [
    "selected_col = ['NRCH17_2','IRHH65_2','GRPHLTIN','HLTINNOS','HLCLAST','IRMEDICR',\n",
    "               'IRPRVHLT','IROTHHLT','IRFAMSOC','IRPINC3','POVERTY3','Criminal']\n",
    "selected_col"
   ]
  },
  {
   "cell_type": "code",
   "execution_count": 16,
   "id": "49ff0487",
   "metadata": {},
   "outputs": [],
   "source": [
    "encoded_df=encoded_df[selected_col]"
   ]
  },
  {
   "cell_type": "code",
   "execution_count": 17,
   "id": "4b13f068",
   "metadata": {},
   "outputs": [
    {
     "data": {
      "text/html": [
       "<div>\n",
       "<style scoped>\n",
       "    .dataframe tbody tr th:only-of-type {\n",
       "        vertical-align: middle;\n",
       "    }\n",
       "\n",
       "    .dataframe tbody tr th {\n",
       "        vertical-align: top;\n",
       "    }\n",
       "\n",
       "    .dataframe thead th {\n",
       "        text-align: right;\n",
       "    }\n",
       "</style>\n",
       "<table border=\"1\" class=\"dataframe\">\n",
       "  <thead>\n",
       "    <tr style=\"text-align: right;\">\n",
       "      <th></th>\n",
       "      <th>NRCH17_2</th>\n",
       "      <th>IRHH65_2</th>\n",
       "      <th>GRPHLTIN</th>\n",
       "      <th>HLTINNOS</th>\n",
       "      <th>HLCLAST</th>\n",
       "      <th>IRMEDICR</th>\n",
       "      <th>IRPRVHLT</th>\n",
       "      <th>IROTHHLT</th>\n",
       "      <th>IRFAMSOC</th>\n",
       "      <th>IRPINC3</th>\n",
       "      <th>POVERTY3</th>\n",
       "      <th>Criminal</th>\n",
       "    </tr>\n",
       "  </thead>\n",
       "  <tbody>\n",
       "    <tr>\n",
       "      <th>0</th>\n",
       "      <td>2.0</td>\n",
       "      <td>1.0</td>\n",
       "      <td>99.0</td>\n",
       "      <td>99.0</td>\n",
       "      <td>99.0</td>\n",
       "      <td>2.0</td>\n",
       "      <td>2.0</td>\n",
       "      <td>99.0</td>\n",
       "      <td>2.0</td>\n",
       "      <td>1.0</td>\n",
       "      <td>2.0</td>\n",
       "      <td>0</td>\n",
       "    </tr>\n",
       "    <tr>\n",
       "      <th>1</th>\n",
       "      <td>1.0</td>\n",
       "      <td>1.0</td>\n",
       "      <td>1.0</td>\n",
       "      <td>99.0</td>\n",
       "      <td>99.0</td>\n",
       "      <td>2.0</td>\n",
       "      <td>1.0</td>\n",
       "      <td>99.0</td>\n",
       "      <td>2.0</td>\n",
       "      <td>1.0</td>\n",
       "      <td>1.0</td>\n",
       "      <td>1</td>\n",
       "    </tr>\n",
       "    <tr>\n",
       "      <th>2</th>\n",
       "      <td>1.0</td>\n",
       "      <td>1.0</td>\n",
       "      <td>99.0</td>\n",
       "      <td>99.0</td>\n",
       "      <td>99.0</td>\n",
       "      <td>2.0</td>\n",
       "      <td>2.0</td>\n",
       "      <td>99.0</td>\n",
       "      <td>1.0</td>\n",
       "      <td>2.0</td>\n",
       "      <td>1.0</td>\n",
       "      <td>0</td>\n",
       "    </tr>\n",
       "    <tr>\n",
       "      <th>3</th>\n",
       "      <td>0.0</td>\n",
       "      <td>1.0</td>\n",
       "      <td>1.0</td>\n",
       "      <td>99.0</td>\n",
       "      <td>99.0</td>\n",
       "      <td>2.0</td>\n",
       "      <td>1.0</td>\n",
       "      <td>99.0</td>\n",
       "      <td>2.0</td>\n",
       "      <td>7.0</td>\n",
       "      <td>3.0</td>\n",
       "      <td>0</td>\n",
       "    </tr>\n",
       "    <tr>\n",
       "      <th>4</th>\n",
       "      <td>0.0</td>\n",
       "      <td>1.0</td>\n",
       "      <td>99.0</td>\n",
       "      <td>99.0</td>\n",
       "      <td>99.0</td>\n",
       "      <td>2.0</td>\n",
       "      <td>2.0</td>\n",
       "      <td>99.0</td>\n",
       "      <td>2.0</td>\n",
       "      <td>1.0</td>\n",
       "      <td>1.0</td>\n",
       "      <td>0</td>\n",
       "    </tr>\n",
       "    <tr>\n",
       "      <th>...</th>\n",
       "      <td>...</td>\n",
       "      <td>...</td>\n",
       "      <td>...</td>\n",
       "      <td>...</td>\n",
       "      <td>...</td>\n",
       "      <td>...</td>\n",
       "      <td>...</td>\n",
       "      <td>...</td>\n",
       "      <td>...</td>\n",
       "      <td>...</td>\n",
       "      <td>...</td>\n",
       "      <td>...</td>\n",
       "    </tr>\n",
       "    <tr>\n",
       "      <th>45713</th>\n",
       "      <td>1.0</td>\n",
       "      <td>1.0</td>\n",
       "      <td>99.0</td>\n",
       "      <td>2.0</td>\n",
       "      <td>5.0</td>\n",
       "      <td>2.0</td>\n",
       "      <td>2.0</td>\n",
       "      <td>2.0</td>\n",
       "      <td>2.0</td>\n",
       "      <td>4.0</td>\n",
       "      <td>2.0</td>\n",
       "      <td>0</td>\n",
       "    </tr>\n",
       "    <tr>\n",
       "      <th>45714</th>\n",
       "      <td>0.0</td>\n",
       "      <td>2.0</td>\n",
       "      <td>99.0</td>\n",
       "      <td>99.0</td>\n",
       "      <td>99.0</td>\n",
       "      <td>1.0</td>\n",
       "      <td>2.0</td>\n",
       "      <td>99.0</td>\n",
       "      <td>1.0</td>\n",
       "      <td>2.0</td>\n",
       "      <td>3.0</td>\n",
       "      <td>0</td>\n",
       "    </tr>\n",
       "    <tr>\n",
       "      <th>45715</th>\n",
       "      <td>0.0</td>\n",
       "      <td>2.0</td>\n",
       "      <td>99.0</td>\n",
       "      <td>2.0</td>\n",
       "      <td>2.0</td>\n",
       "      <td>2.0</td>\n",
       "      <td>2.0</td>\n",
       "      <td>2.0</td>\n",
       "      <td>1.0</td>\n",
       "      <td>2.0</td>\n",
       "      <td>2.0</td>\n",
       "      <td>0</td>\n",
       "    </tr>\n",
       "    <tr>\n",
       "      <th>45716</th>\n",
       "      <td>0.0</td>\n",
       "      <td>1.0</td>\n",
       "      <td>99.0</td>\n",
       "      <td>1.0</td>\n",
       "      <td>99.0</td>\n",
       "      <td>2.0</td>\n",
       "      <td>2.0</td>\n",
       "      <td>1.0</td>\n",
       "      <td>2.0</td>\n",
       "      <td>4.0</td>\n",
       "      <td>3.0</td>\n",
       "      <td>0</td>\n",
       "    </tr>\n",
       "    <tr>\n",
       "      <th>45717</th>\n",
       "      <td>0.0</td>\n",
       "      <td>1.0</td>\n",
       "      <td>1.0</td>\n",
       "      <td>99.0</td>\n",
       "      <td>99.0</td>\n",
       "      <td>2.0</td>\n",
       "      <td>1.0</td>\n",
       "      <td>99.0</td>\n",
       "      <td>2.0</td>\n",
       "      <td>6.0</td>\n",
       "      <td>3.0</td>\n",
       "      <td>0</td>\n",
       "    </tr>\n",
       "  </tbody>\n",
       "</table>\n",
       "<p>45718 rows × 12 columns</p>\n",
       "</div>"
      ],
      "text/plain": [
       "       NRCH17_2  IRHH65_2  GRPHLTIN  HLTINNOS  HLCLAST  IRMEDICR  IRPRVHLT  \\\n",
       "0           2.0       1.0      99.0      99.0     99.0       2.0       2.0   \n",
       "1           1.0       1.0       1.0      99.0     99.0       2.0       1.0   \n",
       "2           1.0       1.0      99.0      99.0     99.0       2.0       2.0   \n",
       "3           0.0       1.0       1.0      99.0     99.0       2.0       1.0   \n",
       "4           0.0       1.0      99.0      99.0     99.0       2.0       2.0   \n",
       "...         ...       ...       ...       ...      ...       ...       ...   \n",
       "45713       1.0       1.0      99.0       2.0      5.0       2.0       2.0   \n",
       "45714       0.0       2.0      99.0      99.0     99.0       1.0       2.0   \n",
       "45715       0.0       2.0      99.0       2.0      2.0       2.0       2.0   \n",
       "45716       0.0       1.0      99.0       1.0     99.0       2.0       2.0   \n",
       "45717       0.0       1.0       1.0      99.0     99.0       2.0       1.0   \n",
       "\n",
       "       IROTHHLT  IRFAMSOC  IRPINC3  POVERTY3  Criminal  \n",
       "0          99.0       2.0      1.0       2.0         0  \n",
       "1          99.0       2.0      1.0       1.0         1  \n",
       "2          99.0       1.0      2.0       1.0         0  \n",
       "3          99.0       2.0      7.0       3.0         0  \n",
       "4          99.0       2.0      1.0       1.0         0  \n",
       "...         ...       ...      ...       ...       ...  \n",
       "45713       2.0       2.0      4.0       2.0         0  \n",
       "45714      99.0       1.0      2.0       3.0         0  \n",
       "45715       2.0       1.0      2.0       2.0         0  \n",
       "45716       1.0       2.0      4.0       3.0         0  \n",
       "45717      99.0       2.0      6.0       3.0         0  \n",
       "\n",
       "[45718 rows x 12 columns]"
      ]
     },
     "execution_count": 17,
     "metadata": {},
     "output_type": "execute_result"
    }
   ],
   "source": [
    "encoded_df"
   ]
  },
  {
   "cell_type": "code",
   "execution_count": 18,
   "id": "c3484644",
   "metadata": {},
   "outputs": [
    {
     "name": "stderr",
     "output_type": "stream",
     "text": [
      "C:\\Users\\yashs\\AppData\\Local\\Temp\\ipykernel_8808\\580172998.py:8: SettingWithCopyWarning: \n",
      "A value is trying to be set on a copy of a slice from a DataFrame.\n",
      "Try using .loc[row_indexer,col_indexer] = value instead\n",
      "\n",
      "See the caveats in the documentation: https://pandas.pydata.org/pandas-docs/stable/user_guide/indexing.html#returning-a-view-versus-a-copy\n",
      "  encoded_df[col] = scaled[col]\n"
     ]
    }
   ],
   "source": [
    "to_scale = [col for col in encoded_df.columns if encoded_df[col].max()>1]\n",
    "scaler = RobustScaler()\n",
    "scaled =scaler.fit_transform(encoded_df[to_scale])\n",
    "scaled = pd.DataFrame(scaled, columns=to_scale)\n",
    "\n",
    "# replace original columns with scaled columns\n",
    "for col in scaled:\n",
    "    encoded_df[col] = scaled[col]"
   ]
  },
  {
   "cell_type": "code",
   "execution_count": 19,
   "id": "b0da9f78",
   "metadata": {},
   "outputs": [
    {
     "data": {
      "text/plain": [
       "['NRCH17_2',\n",
       " 'IRHH65_2',\n",
       " 'GRPHLTIN',\n",
       " 'HLTINNOS',\n",
       " 'HLCLAST',\n",
       " 'IRMEDICR',\n",
       " 'IRPRVHLT',\n",
       " 'IROTHHLT',\n",
       " 'IRFAMSOC',\n",
       " 'IRPINC3',\n",
       " 'POVERTY3']"
      ]
     },
     "execution_count": 19,
     "metadata": {},
     "output_type": "execute_result"
    }
   ],
   "source": [
    "to_scale"
   ]
  },
  {
   "cell_type": "code",
   "execution_count": 20,
   "id": "a77b2be4",
   "metadata": {
    "scrolled": true
   },
   "outputs": [
    {
     "data": {
      "text/html": [
       "<div>\n",
       "<style scoped>\n",
       "    .dataframe tbody tr th:only-of-type {\n",
       "        vertical-align: middle;\n",
       "    }\n",
       "\n",
       "    .dataframe tbody tr th {\n",
       "        vertical-align: top;\n",
       "    }\n",
       "\n",
       "    .dataframe thead th {\n",
       "        text-align: right;\n",
       "    }\n",
       "</style>\n",
       "<table border=\"1\" class=\"dataframe\">\n",
       "  <thead>\n",
       "    <tr style=\"text-align: right;\">\n",
       "      <th></th>\n",
       "      <th>NRCH17_2</th>\n",
       "      <th>IRHH65_2</th>\n",
       "      <th>GRPHLTIN</th>\n",
       "      <th>HLTINNOS</th>\n",
       "      <th>HLCLAST</th>\n",
       "      <th>IRMEDICR</th>\n",
       "      <th>IRPRVHLT</th>\n",
       "      <th>IROTHHLT</th>\n",
       "      <th>IRFAMSOC</th>\n",
       "      <th>IRPINC3</th>\n",
       "      <th>POVERTY3</th>\n",
       "      <th>Criminal</th>\n",
       "    </tr>\n",
       "  </thead>\n",
       "  <tbody>\n",
       "    <tr>\n",
       "      <th>0</th>\n",
       "      <td>2.0</td>\n",
       "      <td>0.0</td>\n",
       "      <td>1.0</td>\n",
       "      <td>0.0</td>\n",
       "      <td>0.0</td>\n",
       "      <td>0.0</td>\n",
       "      <td>1.0</td>\n",
       "      <td>0.0</td>\n",
       "      <td>0.0</td>\n",
       "      <td>-0.333333</td>\n",
       "      <td>-1.0</td>\n",
       "      <td>0</td>\n",
       "    </tr>\n",
       "    <tr>\n",
       "      <th>1</th>\n",
       "      <td>1.0</td>\n",
       "      <td>0.0</td>\n",
       "      <td>0.0</td>\n",
       "      <td>0.0</td>\n",
       "      <td>0.0</td>\n",
       "      <td>0.0</td>\n",
       "      <td>0.0</td>\n",
       "      <td>0.0</td>\n",
       "      <td>0.0</td>\n",
       "      <td>-0.333333</td>\n",
       "      <td>-2.0</td>\n",
       "      <td>1</td>\n",
       "    </tr>\n",
       "    <tr>\n",
       "      <th>2</th>\n",
       "      <td>1.0</td>\n",
       "      <td>0.0</td>\n",
       "      <td>1.0</td>\n",
       "      <td>0.0</td>\n",
       "      <td>0.0</td>\n",
       "      <td>0.0</td>\n",
       "      <td>1.0</td>\n",
       "      <td>0.0</td>\n",
       "      <td>-1.0</td>\n",
       "      <td>0.000000</td>\n",
       "      <td>-2.0</td>\n",
       "      <td>0</td>\n",
       "    </tr>\n",
       "    <tr>\n",
       "      <th>3</th>\n",
       "      <td>0.0</td>\n",
       "      <td>0.0</td>\n",
       "      <td>0.0</td>\n",
       "      <td>0.0</td>\n",
       "      <td>0.0</td>\n",
       "      <td>0.0</td>\n",
       "      <td>0.0</td>\n",
       "      <td>0.0</td>\n",
       "      <td>0.0</td>\n",
       "      <td>1.666667</td>\n",
       "      <td>0.0</td>\n",
       "      <td>0</td>\n",
       "    </tr>\n",
       "    <tr>\n",
       "      <th>4</th>\n",
       "      <td>0.0</td>\n",
       "      <td>0.0</td>\n",
       "      <td>1.0</td>\n",
       "      <td>0.0</td>\n",
       "      <td>0.0</td>\n",
       "      <td>0.0</td>\n",
       "      <td>1.0</td>\n",
       "      <td>0.0</td>\n",
       "      <td>0.0</td>\n",
       "      <td>-0.333333</td>\n",
       "      <td>-2.0</td>\n",
       "      <td>0</td>\n",
       "    </tr>\n",
       "    <tr>\n",
       "      <th>...</th>\n",
       "      <td>...</td>\n",
       "      <td>...</td>\n",
       "      <td>...</td>\n",
       "      <td>...</td>\n",
       "      <td>...</td>\n",
       "      <td>...</td>\n",
       "      <td>...</td>\n",
       "      <td>...</td>\n",
       "      <td>...</td>\n",
       "      <td>...</td>\n",
       "      <td>...</td>\n",
       "      <td>...</td>\n",
       "    </tr>\n",
       "    <tr>\n",
       "      <th>45713</th>\n",
       "      <td>1.0</td>\n",
       "      <td>0.0</td>\n",
       "      <td>1.0</td>\n",
       "      <td>-97.0</td>\n",
       "      <td>-94.0</td>\n",
       "      <td>0.0</td>\n",
       "      <td>1.0</td>\n",
       "      <td>-97.0</td>\n",
       "      <td>0.0</td>\n",
       "      <td>0.666667</td>\n",
       "      <td>-1.0</td>\n",
       "      <td>0</td>\n",
       "    </tr>\n",
       "    <tr>\n",
       "      <th>45714</th>\n",
       "      <td>0.0</td>\n",
       "      <td>1.0</td>\n",
       "      <td>1.0</td>\n",
       "      <td>0.0</td>\n",
       "      <td>0.0</td>\n",
       "      <td>-1.0</td>\n",
       "      <td>1.0</td>\n",
       "      <td>0.0</td>\n",
       "      <td>-1.0</td>\n",
       "      <td>0.000000</td>\n",
       "      <td>0.0</td>\n",
       "      <td>0</td>\n",
       "    </tr>\n",
       "    <tr>\n",
       "      <th>45715</th>\n",
       "      <td>0.0</td>\n",
       "      <td>1.0</td>\n",
       "      <td>1.0</td>\n",
       "      <td>-97.0</td>\n",
       "      <td>-97.0</td>\n",
       "      <td>0.0</td>\n",
       "      <td>1.0</td>\n",
       "      <td>-97.0</td>\n",
       "      <td>-1.0</td>\n",
       "      <td>0.000000</td>\n",
       "      <td>-1.0</td>\n",
       "      <td>0</td>\n",
       "    </tr>\n",
       "    <tr>\n",
       "      <th>45716</th>\n",
       "      <td>0.0</td>\n",
       "      <td>0.0</td>\n",
       "      <td>1.0</td>\n",
       "      <td>-98.0</td>\n",
       "      <td>0.0</td>\n",
       "      <td>0.0</td>\n",
       "      <td>1.0</td>\n",
       "      <td>-98.0</td>\n",
       "      <td>0.0</td>\n",
       "      <td>0.666667</td>\n",
       "      <td>0.0</td>\n",
       "      <td>0</td>\n",
       "    </tr>\n",
       "    <tr>\n",
       "      <th>45717</th>\n",
       "      <td>0.0</td>\n",
       "      <td>0.0</td>\n",
       "      <td>0.0</td>\n",
       "      <td>0.0</td>\n",
       "      <td>0.0</td>\n",
       "      <td>0.0</td>\n",
       "      <td>0.0</td>\n",
       "      <td>0.0</td>\n",
       "      <td>0.0</td>\n",
       "      <td>1.333333</td>\n",
       "      <td>0.0</td>\n",
       "      <td>0</td>\n",
       "    </tr>\n",
       "  </tbody>\n",
       "</table>\n",
       "<p>45718 rows × 12 columns</p>\n",
       "</div>"
      ],
      "text/plain": [
       "       NRCH17_2  IRHH65_2  GRPHLTIN  HLTINNOS  HLCLAST  IRMEDICR  IRPRVHLT  \\\n",
       "0           2.0       0.0       1.0       0.0      0.0       0.0       1.0   \n",
       "1           1.0       0.0       0.0       0.0      0.0       0.0       0.0   \n",
       "2           1.0       0.0       1.0       0.0      0.0       0.0       1.0   \n",
       "3           0.0       0.0       0.0       0.0      0.0       0.0       0.0   \n",
       "4           0.0       0.0       1.0       0.0      0.0       0.0       1.0   \n",
       "...         ...       ...       ...       ...      ...       ...       ...   \n",
       "45713       1.0       0.0       1.0     -97.0    -94.0       0.0       1.0   \n",
       "45714       0.0       1.0       1.0       0.0      0.0      -1.0       1.0   \n",
       "45715       0.0       1.0       1.0     -97.0    -97.0       0.0       1.0   \n",
       "45716       0.0       0.0       1.0     -98.0      0.0       0.0       1.0   \n",
       "45717       0.0       0.0       0.0       0.0      0.0       0.0       0.0   \n",
       "\n",
       "       IROTHHLT  IRFAMSOC   IRPINC3  POVERTY3  Criminal  \n",
       "0           0.0       0.0 -0.333333      -1.0         0  \n",
       "1           0.0       0.0 -0.333333      -2.0         1  \n",
       "2           0.0      -1.0  0.000000      -2.0         0  \n",
       "3           0.0       0.0  1.666667       0.0         0  \n",
       "4           0.0       0.0 -0.333333      -2.0         0  \n",
       "...         ...       ...       ...       ...       ...  \n",
       "45713     -97.0       0.0  0.666667      -1.0         0  \n",
       "45714       0.0      -1.0  0.000000       0.0         0  \n",
       "45715     -97.0      -1.0  0.000000      -1.0         0  \n",
       "45716     -98.0       0.0  0.666667       0.0         0  \n",
       "45717       0.0       0.0  1.333333       0.0         0  \n",
       "\n",
       "[45718 rows x 12 columns]"
      ]
     },
     "execution_count": 20,
     "metadata": {},
     "output_type": "execute_result"
    }
   ],
   "source": [
    "encoded_df"
   ]
  },
  {
   "cell_type": "code",
   "execution_count": 21,
   "id": "6f1b10fa",
   "metadata": {},
   "outputs": [
    {
     "name": "stdout",
     "output_type": "stream",
     "text": [
      "(45718, 11)\n",
      "(45718,)\n"
     ]
    }
   ],
   "source": [
    "X=encoded_df.drop(['Criminal'], axis=1)\n",
    "Y=encoded_df['Criminal']\n",
    "print(X.shape)\n",
    "print(Y.shape)"
   ]
  },
  {
   "cell_type": "code",
   "execution_count": 22,
   "id": "4e1f9bd4",
   "metadata": {},
   "outputs": [],
   "source": [
    "# sklearn to split data into training and testing sets\n",
    "from sklearn.model_selection import train_test_split\n",
    "# Split the data into training and testing sets\n",
    "X_train,X_test,y_train,y_test = train_test_split(X, Y, test_size = 0.25)"
   ]
  },
  {
   "cell_type": "code",
   "execution_count": 23,
   "id": "74135dc3",
   "metadata": {},
   "outputs": [
    {
     "name": "stdout",
     "output_type": "stream",
     "text": [
      "(34288, 11)\n",
      "(11430, 11)\n"
     ]
    }
   ],
   "source": [
    "print(X_train.shape)\n",
    "print(X_test.shape)"
   ]
  },
  {
   "cell_type": "code",
   "execution_count": 24,
   "id": "bae43d62",
   "metadata": {},
   "outputs": [
    {
     "data": {
      "image/png": "[encoded data removed]",
      "text/plain": [
       "<Figure size 1500x500 with 2 Axes>"
      ]
     },
     "metadata": {},
     "output_type": "display_data"
    }
   ],
   "source": [
    "from imblearn.over_sampling import SMOTE \n",
    "smote = SMOTE()\n",
    "X_train_new, y_train_new = smote.fit_resample(X_train, y_train.values.ravel())\n",
    "import matplotlib.ticker as mtick\n",
    "\n",
    "# to demonstrate the effect of SMOTE over imbalanced datasets\n",
    "fig, (ax1, ax2) = plt.subplots(ncols = 2, figsize =(15, 5))\n",
    "ax1.set_title('Before SMOTE')\n",
    "pd.Series(y_train).value_counts().plot.pie(autopct='%.1f%%',ax=ax1)\n",
    "ax1.yaxis.set_major_formatter(mtick.PercentFormatter())\n",
    "ax2.set_title('After SMOTE')  \n",
    "pd.Series(y_train_new).value_counts().plot.pie(autopct='%.1f%%',ax=ax2)\n",
    "ax2.yaxis.set_major_formatter(mtick.PercentFormatter())\n",
    "plt.show()"
   ]
  },
  {
   "cell_type": "code",
   "execution_count": 25,
   "id": "3a528c70",
   "metadata": {},
   "outputs": [
    {
     "name": "stderr",
     "output_type": "stream",
     "text": [
      "C:\\Users\\yashs\\AppData\\Roaming\\Python\\Python38\\site-packages\\sklearn\\linear_model\\_logistic.py:460: ConvergenceWarning: lbfgs failed to converge (status=1):\n",
      "STOP: TOTAL NO. of ITERATIONS REACHED LIMIT.\n",
      "\n",
      "Increase the number of iterations (max_iter) or scale the data as shown in:\n",
      "    https://scikit-learn.org/stable/modules/preprocessing.html\n",
      "Please also refer to the documentation for alternative solver options:\n",
      "    https://scikit-learn.org/stable/modules/linear_model.html#logistic-regression\n",
      "  n_iter_i = _check_optimize_result(\n"
     ]
    }
   ],
   "source": [
    "lr =  LogisticRegression()\n",
    "lr.fit(X_train_new, y_train_new)\n",
    "y_pred=lr.predict(X_test)"
   ]
  },
  {
   "cell_type": "code",
   "execution_count": 26,
   "id": "84db4042",
   "metadata": {},
   "outputs": [
    {
     "name": "stdout",
     "output_type": "stream",
     "text": [
      "Accuracy Logistic Regression: 0.8712160979877516\n"
     ]
    }
   ],
   "source": [
    "from sklearn import metrics\n",
    "# Model Accuracy, how often is the classifier correct?\n",
    "print(\"Accuracy Logistic Regression:\",metrics.accuracy_score(y_test, y_pred))"
   ]
  },
  {
   "cell_type": "code",
   "execution_count": 27,
   "id": "c48296f2",
   "metadata": {},
   "outputs": [
    {
     "name": "stdout",
     "output_type": "stream",
     "text": [
      "Confusion matrix : \n",
      " [[ 692  110]\n",
      " [1362 9266]]\n",
      "Outcome values : \n",
      " 692 110 1362 9266\n",
      "Classification report Logistic Regression : \n",
      "               precision    recall  f1-score   support\n",
      "\n",
      "           1       0.34      0.86      0.48       802\n",
      "           0       0.99      0.87      0.93     10628\n",
      "\n",
      "    accuracy                           0.87     11430\n",
      "   macro avg       0.66      0.87      0.71     11430\n",
      "weighted avg       0.94      0.87      0.90     11430\n",
      "\n"
     ]
    }
   ],
   "source": [
    "from sklearn.metrics import confusion_matrix\n",
    "from sklearn.metrics import classification_report\n",
    "\n",
    "# actual values\n",
    "actual = y_test\n",
    "# predicted values\n",
    "predicted =y_pred\n",
    "\n",
    "# confusion matrix\n",
    "matrixresult = confusion_matrix(actual,predicted, labels=[1,0])\n",
    "print('Confusion matrix : \\n',matrixresult)\n",
    "\n",
    "# outcome values order in sklearn\n",
    "tp, fn, fp, tn = confusion_matrix(actual,predicted,labels=[1,0]).reshape(-1)\n",
    "print('Outcome values : \\n', tp, fn, fp, tn)\n",
    "\n",
    "# classification report for precision, recall f1-score and accuracy\n",
    "matrix = classification_report(actual,predicted,labels=[1,0])\n",
    "print('Classification report Logistic Regression : \\n',matrix)"
   ]
  },
  {
   "cell_type": "code",
   "execution_count": 28,
   "id": "d1d01e1a",
   "metadata": {},
   "outputs": [
    {
     "name": "stdout",
     "output_type": "stream",
     "text": [
      "LogisticRegression: 0.8712160979877516\n",
      "Model saved as models/Logistic_Regression_Classify_model.joblib\n"
     ]
    }
   ],
   "source": [
    "import joblib\n",
    "from sklearn import metrics\n",
    "# Model Accuracy, how often is the classifier correct?\n",
    "print(\"LogisticRegression:\",metrics.accuracy_score(y_test, y_pred))\n",
    "\n",
    "# Save the trained model to a file using joblib\n",
    "model_filename1 = \"models/Logistic_Regression_Classify_model.joblib\"\n",
    "joblib.dump(lr, model_filename1)\n",
    "print(f\"Model saved as {model_filename1}\")"
   ]
  },
  {
   "cell_type": "code",
   "execution_count": null,
   "id": "42bb7022",
   "metadata": {},
   "outputs": [],
   "source": []
  },
  {
   "cell_type": "code",
   "execution_count": 29,
   "id": "59a6da4d",
   "metadata": {},
   "outputs": [],
   "source": [
    "from sklearn.neighbors import KNeighborsClassifier  \n",
    "classifier= KNeighborsClassifier(n_neighbors=3)  \n",
    "classifier.fit(X_train_new, y_train_new)  \n",
    "y_pred4=classifier.predict(X_test)"
   ]
  },
  {
   "cell_type": "code",
   "execution_count": 30,
   "id": "5fb01428",
   "metadata": {},
   "outputs": [
    {
     "name": "stdout",
     "output_type": "stream",
     "text": [
      "Accuracy KNN: 0.9352580927384077\n"
     ]
    }
   ],
   "source": [
    "from sklearn import metrics\n",
    "print(\"Accuracy KNN:\",metrics.accuracy_score(y_test, y_pred4))"
   ]
  },
  {
   "cell_type": "code",
   "execution_count": 31,
   "id": "d5fdaecb",
   "metadata": {},
   "outputs": [
    {
     "name": "stdout",
     "output_type": "stream",
     "text": [
      "Confusion matrix : \n",
      " [[  361   441]\n",
      " [  299 10329]]\n",
      "Outcome values : \n",
      " 361 441 299 10329\n",
      "Classification KNeighborsClassifier : \n",
      "               precision    recall  f1-score   support\n",
      "\n",
      "           1       0.55      0.45      0.49       802\n",
      "           0       0.96      0.97      0.97     10628\n",
      "\n",
      "    accuracy                           0.94     11430\n",
      "   macro avg       0.75      0.71      0.73     11430\n",
      "weighted avg       0.93      0.94      0.93     11430\n",
      "\n"
     ]
    }
   ],
   "source": [
    "from sklearn.metrics import confusion_matrix\n",
    "from sklearn.metrics import classification_report\n",
    "\n",
    "# actual values\n",
    "actual = y_test\n",
    "# predicted values\n",
    "predicted =y_pred4\n",
    "\n",
    "# confusion matrix\n",
    "matrixresult = confusion_matrix(actual,predicted, labels=[1,0])\n",
    "print('Confusion matrix : \\n',matrixresult)\n",
    "\n",
    "# outcome values order in sklearn\n",
    "tp, fn, fp, tn = confusion_matrix(actual,predicted,labels=[1,0]).reshape(-1)\n",
    "print('Outcome values : \\n', tp, fn, fp, tn)\n",
    "\n",
    "# classification report for precision, recall f1-score and accuracy\n",
    "matrix = classification_report(actual,predicted,labels=[1,0])\n",
    "print('Classification KNeighborsClassifier : \\n',matrix)"
   ]
  },
  {
   "cell_type": "code",
   "execution_count": 32,
   "id": "87472507",
   "metadata": {},
   "outputs": [
    {
     "name": "stdout",
     "output_type": "stream",
     "text": [
      "KNeighborsClassifier : 0.9352580927384077\n",
      "Model saved as models/KNeighbors_Classifier_Classify_model.joblib\n"
     ]
    }
   ],
   "source": [
    "import joblib\n",
    "from sklearn import metrics\n",
    "# Model Accuracy, how often is the classifier correct?\n",
    "print(\"KNeighborsClassifier :\",metrics.accuracy_score(y_test, y_pred4))\n",
    "\n",
    "# Save the trained model to a file using joblib\n",
    "model_filename1 = \"models/KNeighbors_Classifier_Classify_model.joblib\"\n",
    "joblib.dump(classifier, model_filename1)\n",
    "print(f\"Model saved as {model_filename1}\")"
   ]
  },
  {
   "cell_type": "code",
   "execution_count": 33,
   "id": "a5c5a8c6",
   "metadata": {},
   "outputs": [
    {
     "data": {
      "text/plain": [
       "0"
      ]
     },
     "execution_count": 33,
     "metadata": {},
     "output_type": "execute_result"
    }
   ],
   "source": [
    "y_pred4[0]"
   ]
  },
  {
   "cell_type": "code",
   "execution_count": null,
   "id": "b0eae280",
   "metadata": {},
   "outputs": [],
   "source": []
  },
  {
   "cell_type": "code",
   "execution_count": 34,
   "id": "ea16377d",
   "metadata": {},
   "outputs": [
    {
     "data": {
      "text/html": [
       "<style>#sk-container-id-1 {color: black;}#sk-container-id-1 pre{padding: 0;}#sk-container-id-1 div.sk-toggleable {background-color: white;}#sk-container-id-1 label.sk-toggleable__label {cursor: pointer;display: block;width: 100%;margin-bottom: 0;padding: 0.3em;box-sizing: border-box;text-align: center;}#sk-container-id-1 label.sk-toggleable__label-arrow:before {content: \"▸\";float: left;margin-right: 0.25em;color: #696969;}#sk-container-id-1 label.sk-toggleable__label-arrow:hover:before {color: black;}#sk-container-id-1 div.sk-estimator:hover label.sk-toggleable__label-arrow:before {color: black;}#sk-container-id-1 div.sk-toggleable__content {max-height: 0;max-width: 0;overflow: hidden;text-align: left;background-color: #f0f8ff;}#sk-container-id-1 div.sk-toggleable__content pre {margin: 0.2em;color: black;border-radius: 0.25em;background-color: #f0f8ff;}#sk-container-id-1 input.sk-toggleable__control:checked~div.sk-toggleable__content {max-height: 200px;max-width: 100%;overflow: auto;}#sk-container-id-1 input.sk-toggleable__control:checked~label.sk-toggleable__label-arrow:before {content: \"▾\";}#sk-container-id-1 div.sk-estimator input.sk-toggleable__control:checked~label.sk-toggleable__label {background-color: #d4ebff;}#sk-container-id-1 div.sk-label input.sk-toggleable__control:checked~label.sk-toggleable__label {background-color: #d4ebff;}#sk-container-id-1 input.sk-hidden--visually {border: 0;clip: rect(1px 1px 1px 1px);clip: rect(1px, 1px, 1px, 1px);height: 1px;margin: -1px;overflow: hidden;padding: 0;position: absolute;width: 1px;}#sk-container-id-1 div.sk-estimator {font-family: monospace;background-color: #f0f8ff;border: 1px dotted black;border-radius: 0.25em;box-sizing: border-box;margin-bottom: 0.5em;}#sk-container-id-1 div.sk-estimator:hover {background-color: #d4ebff;}#sk-container-id-1 div.sk-parallel-item::after {content: \"\";width: 100%;border-bottom: 1px solid gray;flex-grow: 1;}#sk-container-id-1 div.sk-label:hover label.sk-toggleable__label {background-color: #d4ebff;}#sk-container-id-1 div.sk-serial::before {content: \"\";position: absolute;border-left: 1px solid gray;box-sizing: border-box;top: 0;bottom: 0;left: 50%;z-index: 0;}#sk-container-id-1 div.sk-serial {display: flex;flex-direction: column;align-items: center;background-color: white;padding-right: 0.2em;padding-left: 0.2em;position: relative;}#sk-container-id-1 div.sk-item {position: relative;z-index: 1;}#sk-container-id-1 div.sk-parallel {display: flex;align-items: stretch;justify-content: center;background-color: white;position: relative;}#sk-container-id-1 div.sk-item::before, #sk-container-id-1 div.sk-parallel-item::before {content: \"\";position: absolute;border-left: 1px solid gray;box-sizing: border-box;top: 0;bottom: 0;left: 50%;z-index: -1;}#sk-container-id-1 div.sk-parallel-item {display: flex;flex-direction: column;z-index: 1;position: relative;background-color: white;}#sk-container-id-1 div.sk-parallel-item:first-child::after {align-self: flex-end;width: 50%;}#sk-container-id-1 div.sk-parallel-item:last-child::after {align-self: flex-start;width: 50%;}#sk-container-id-1 div.sk-parallel-item:only-child::after {width: 0;}#sk-container-id-1 div.sk-dashed-wrapped {border: 1px dashed gray;margin: 0 0.4em 0.5em 0.4em;box-sizing: border-box;padding-bottom: 0.4em;background-color: white;}#sk-container-id-1 div.sk-label label {font-family: monospace;font-weight: bold;display: inline-block;line-height: 1.2em;}#sk-container-id-1 div.sk-label-container {text-align: center;}#sk-container-id-1 div.sk-container {/* jupyter's `normalize.less` sets `[hidden] { display: none; }` but bootstrap.min.css set `[hidden] { display: none !important; }` so we also need the `!important` here to be able to override the default hidden behavior on the sphinx rendered scikit-learn.org. See: https://github.com/scikit-learn/scikit-learn/issues/21755 */display: inline-block !important;position: relative;}#sk-container-id-1 div.sk-text-repr-fallback {display: none;}</style><div id=\"sk-container-id-1\" class=\"sk-top-container\"><div class=\"sk-text-repr-fallback\"><pre>DecisionTreeClassifier()</pre><b>In a Jupyter environment, please rerun this cell to show the HTML representation or trust the notebook. <br />On GitHub, the HTML representation is unable to render, please try loading this page with nbviewer.org.</b></div><div class=\"sk-container\" hidden><div class=\"sk-item\"><div class=\"sk-estimator sk-toggleable\"><input class=\"sk-toggleable__control sk-hidden--visually\" id=\"sk-estimator-id-1\" type=\"checkbox\" checked><label for=\"sk-estimator-id-1\" class=\"sk-toggleable__label sk-toggleable__label-arrow\">DecisionTreeClassifier</label><div class=\"sk-toggleable__content\"><pre>DecisionTreeClassifier()</pre></div></div></div></div></div>"
      ],
      "text/plain": [
       "DecisionTreeClassifier()"
      ]
     },
     "execution_count": 34,
     "metadata": {},
     "output_type": "execute_result"
    }
   ],
   "source": [
    "# Create an instance of the DecisionTreeClassifier\n",
    "clf = DecisionTreeClassifier()\n",
    "\n",
    "# Fit the model to your training data\n",
    "clf.fit(X_train_new, y_train_new)"
   ]
  },
  {
   "cell_type": "code",
   "execution_count": 35,
   "id": "e761c557",
   "metadata": {},
   "outputs": [
    {
     "name": "stdout",
     "output_type": "stream",
     "text": [
      "Accuracy DecisionTreeClassifier: 0.8875765529308837\n"
     ]
    }
   ],
   "source": [
    "y_pred1 = clf.predict(X_test)\n",
    "print(\"Accuracy DecisionTreeClassifier:\",metrics.accuracy_score(y_test, y_pred1))"
   ]
  },
  {
   "cell_type": "code",
   "execution_count": 36,
   "id": "4887b6c2",
   "metadata": {},
   "outputs": [
    {
     "name": "stdout",
     "output_type": "stream",
     "text": [
      "Confusion matrix : \n",
      " [[ 657  145]\n",
      " [1140 9488]]\n",
      "Outcome values : \n",
      " 657 145 1140 9488\n",
      "Classification DecisionTreeClassifier : \n",
      "               precision    recall  f1-score   support\n",
      "\n",
      "           1       0.37      0.82      0.51       802\n",
      "           0       0.98      0.89      0.94     10628\n",
      "\n",
      "    accuracy                           0.89     11430\n",
      "   macro avg       0.68      0.86      0.72     11430\n",
      "weighted avg       0.94      0.89      0.91     11430\n",
      "\n"
     ]
    }
   ],
   "source": [
    "from sklearn.metrics import confusion_matrix\n",
    "from sklearn.metrics import classification_report\n",
    "\n",
    "# actual values\n",
    "actual = y_test\n",
    "# predicted values\n",
    "predicted =y_pred1\n",
    "\n",
    "# confusion matrix\n",
    "matrixresult = confusion_matrix(actual,predicted, labels=[1,0])\n",
    "print('Confusion matrix : \\n',matrixresult)\n",
    "\n",
    "# outcome values order in sklearn\n",
    "tp, fn, fp, tn = confusion_matrix(actual,predicted,labels=[1,0]).reshape(-1)\n",
    "print('Outcome values : \\n', tp, fn, fp, tn)\n",
    "\n",
    "# classification report for precision, recall f1-score and accuracy\n",
    "matrix = classification_report(actual,predicted,labels=[1,0])\n",
    "print('Classification DecisionTreeClassifier : \\n',matrix)"
   ]
  },
  {
   "cell_type": "code",
   "execution_count": 37,
   "id": "842e5a6c",
   "metadata": {},
   "outputs": [
    {
     "name": "stdout",
     "output_type": "stream",
     "text": [
      "DecisionTreeClassifier  : 0.8875765529308837\n",
      "Model saved as models/DecisionTree_Classifier_Classify_model.joblib\n"
     ]
    }
   ],
   "source": [
    "import joblib\n",
    "from sklearn import metrics\n",
    "# Model Accuracy, how often is the classifier correct?\n",
    "print(\"DecisionTreeClassifier  :\",metrics.accuracy_score(y_test, y_pred1))\n",
    "\n",
    "# Save the trained model to a file using joblib\n",
    "model_filename1 = \"models/DecisionTree_Classifier_Classify_model.joblib\"\n",
    "joblib.dump(classifier, model_filename1)\n",
    "print(f\"Model saved as {model_filename1}\")"
   ]
  },
  {
   "cell_type": "code",
   "execution_count": null,
   "id": "010d6ae9",
   "metadata": {},
   "outputs": [],
   "source": []
  },
  {
   "cell_type": "code",
   "execution_count": 38,
   "id": "6c2f1387",
   "metadata": {},
   "outputs": [
    {
     "data": {
      "text/html": [
       "<style>#sk-container-id-2 {color: black;}#sk-container-id-2 pre{padding: 0;}#sk-container-id-2 div.sk-toggleable {background-color: white;}#sk-container-id-2 label.sk-toggleable__label {cursor: pointer;display: block;width: 100%;margin-bottom: 0;padding: 0.3em;box-sizing: border-box;text-align: center;}#sk-container-id-2 label.sk-toggleable__label-arrow:before {content: \"▸\";float: left;margin-right: 0.25em;color: #696969;}#sk-container-id-2 label.sk-toggleable__label-arrow:hover:before {color: black;}#sk-container-id-2 div.sk-estimator:hover label.sk-toggleable__label-arrow:before {color: black;}#sk-container-id-2 div.sk-toggleable__content {max-height: 0;max-width: 0;overflow: hidden;text-align: left;background-color: #f0f8ff;}#sk-container-id-2 div.sk-toggleable__content pre {margin: 0.2em;color: black;border-radius: 0.25em;background-color: #f0f8ff;}#sk-container-id-2 input.sk-toggleable__control:checked~div.sk-toggleable__content {max-height: 200px;max-width: 100%;overflow: auto;}#sk-container-id-2 input.sk-toggleable__control:checked~label.sk-toggleable__label-arrow:before {content: \"▾\";}#sk-container-id-2 div.sk-estimator input.sk-toggleable__control:checked~label.sk-toggleable__label {background-color: #d4ebff;}#sk-container-id-2 div.sk-label input.sk-toggleable__control:checked~label.sk-toggleable__label {background-color: #d4ebff;}#sk-container-id-2 input.sk-hidden--visually {border: 0;clip: rect(1px 1px 1px 1px);clip: rect(1px, 1px, 1px, 1px);height: 1px;margin: -1px;overflow: hidden;padding: 0;position: absolute;width: 1px;}#sk-container-id-2 div.sk-estimator {font-family: monospace;background-color: #f0f8ff;border: 1px dotted black;border-radius: 0.25em;box-sizing: border-box;margin-bottom: 0.5em;}#sk-container-id-2 div.sk-estimator:hover {background-color: #d4ebff;}#sk-container-id-2 div.sk-parallel-item::after {content: \"\";width: 100%;border-bottom: 1px solid gray;flex-grow: 1;}#sk-container-id-2 div.sk-label:hover label.sk-toggleable__label {background-color: #d4ebff;}#sk-container-id-2 div.sk-serial::before {content: \"\";position: absolute;border-left: 1px solid gray;box-sizing: border-box;top: 0;bottom: 0;left: 50%;z-index: 0;}#sk-container-id-2 div.sk-serial {display: flex;flex-direction: column;align-items: center;background-color: white;padding-right: 0.2em;padding-left: 0.2em;position: relative;}#sk-container-id-2 div.sk-item {position: relative;z-index: 1;}#sk-container-id-2 div.sk-parallel {display: flex;align-items: stretch;justify-content: center;background-color: white;position: relative;}#sk-container-id-2 div.sk-item::before, #sk-container-id-2 div.sk-parallel-item::before {content: \"\";position: absolute;border-left: 1px solid gray;box-sizing: border-box;top: 0;bottom: 0;left: 50%;z-index: -1;}#sk-container-id-2 div.sk-parallel-item {display: flex;flex-direction: column;z-index: 1;position: relative;background-color: white;}#sk-container-id-2 div.sk-parallel-item:first-child::after {align-self: flex-end;width: 50%;}#sk-container-id-2 div.sk-parallel-item:last-child::after {align-self: flex-start;width: 50%;}#sk-container-id-2 div.sk-parallel-item:only-child::after {width: 0;}#sk-container-id-2 div.sk-dashed-wrapped {border: 1px dashed gray;margin: 0 0.4em 0.5em 0.4em;box-sizing: border-box;padding-bottom: 0.4em;background-color: white;}#sk-container-id-2 div.sk-label label {font-family: monospace;font-weight: bold;display: inline-block;line-height: 1.2em;}#sk-container-id-2 div.sk-label-container {text-align: center;}#sk-container-id-2 div.sk-container {/* jupyter's `normalize.less` sets `[hidden] { display: none; }` but bootstrap.min.css set `[hidden] { display: none !important; }` so we also need the `!important` here to be able to override the default hidden behavior on the sphinx rendered scikit-learn.org. See: https://github.com/scikit-learn/scikit-learn/issues/21755 */display: inline-block !important;position: relative;}#sk-container-id-2 div.sk-text-repr-fallback {display: none;}</style><div id=\"sk-container-id-2\" class=\"sk-top-container\"><div class=\"sk-text-repr-fallback\"><pre>RandomForestClassifier()</pre><b>In a Jupyter environment, please rerun this cell to show the HTML representation or trust the notebook. <br />On GitHub, the HTML representation is unable to render, please try loading this page with nbviewer.org.</b></div><div class=\"sk-container\" hidden><div class=\"sk-item\"><div class=\"sk-estimator sk-toggleable\"><input class=\"sk-toggleable__control sk-hidden--visually\" id=\"sk-estimator-id-2\" type=\"checkbox\" checked><label for=\"sk-estimator-id-2\" class=\"sk-toggleable__label sk-toggleable__label-arrow\">RandomForestClassifier</label><div class=\"sk-toggleable__content\"><pre>RandomForestClassifier()</pre></div></div></div></div></div>"
      ],
      "text/plain": [
       "RandomForestClassifier()"
      ]
     },
     "execution_count": 38,
     "metadata": {},
     "output_type": "execute_result"
    }
   ],
   "source": [
    "# Create an instance of the DecisionTreeClassifier\n",
    "random = RandomForestClassifier()\n",
    "\n",
    "# Fit the model to your training data\n",
    "random.fit(X_train_new, y_train_new)"
   ]
  },
  {
   "cell_type": "code",
   "execution_count": 39,
   "id": "7b1b2274",
   "metadata": {},
   "outputs": [],
   "source": [
    "# Make predictions on the test data\n",
    "y_pred5 = random.predict(X_test)"
   ]
  },
  {
   "cell_type": "code",
   "execution_count": 40,
   "id": "770992d4",
   "metadata": {},
   "outputs": [
    {
     "name": "stdout",
     "output_type": "stream",
     "text": [
      "Confusion matrix : \n",
      " [[ 660  142]\n",
      " [1142 9486]]\n",
      "Outcome values : \n",
      " 660 142 1142 9486\n",
      "Classification SVC : \n",
      "               precision    recall  f1-score   support\n",
      "\n",
      "           1       0.37      0.82      0.51       802\n",
      "           0       0.99      0.89      0.94     10628\n",
      "\n",
      "    accuracy                           0.89     11430\n",
      "   macro avg       0.68      0.86      0.72     11430\n",
      "weighted avg       0.94      0.89      0.91     11430\n",
      "\n"
     ]
    }
   ],
   "source": [
    "from sklearn.metrics import confusion_matrix\n",
    "from sklearn.metrics import classification_report\n",
    "\n",
    "# actual values\n",
    "actual = y_test\n",
    "# predicted values\n",
    "predicted =y_pred5\n",
    "\n",
    "# confusion matrix\n",
    "matrixresult = confusion_matrix(actual,predicted, labels=[1,0])\n",
    "print('Confusion matrix : \\n',matrixresult)\n",
    "\n",
    "# outcome values order in sklearn\n",
    "tp, fn, fp, tn = confusion_matrix(actual,predicted,labels=[1,0]).reshape(-1)\n",
    "print('Outcome values : \\n', tp, fn, fp, tn)\n",
    "\n",
    "# classification report for precision, recall f1-score and accuracy\n",
    "matrix = classification_report(actual,predicted,labels=[1,0])\n",
    "print('Classification SVC : \\n',matrix)"
   ]
  },
  {
   "cell_type": "code",
   "execution_count": 41,
   "id": "38c04d56",
   "metadata": {},
   "outputs": [
    {
     "name": "stdout",
     "output_type": "stream",
     "text": [
      "Model saved as models/RandomForestClassifier_Classify_model.joblib\n"
     ]
    }
   ],
   "source": [
    "model_filename15 = \"models/RandomForestClassifier_Classify_model.joblib\"\n",
    "joblib.dump(random, model_filename15)\n",
    "print(f\"Model saved as {model_filename15}\")"
   ]
  },
  {
   "cell_type": "code",
   "execution_count": null,
   "id": "4c8339ba",
   "metadata": {},
   "outputs": [],
   "source": []
  },
  {
   "cell_type": "code",
   "execution_count": null,
   "id": "6333c80b",
   "metadata": {},
   "outputs": [],
   "source": []
  },
  {
   "cell_type": "code",
   "execution_count": null,
   "id": "a0c1c384",
   "metadata": {},
   "outputs": [],
   "source": []
  },
  {
   "cell_type": "code",
   "execution_count": 52,
   "id": "bec44af4",
   "metadata": {},
   "outputs": [],
   "source": [
    "from sklearn.ensemble import AdaBoostClassifier \n",
    "from sklearn.tree import DecisionTreeClassifier"
   ]
  },
  {
   "cell_type": "code",
   "execution_count": 54,
   "id": "f7aa48d5",
   "metadata": {},
   "outputs": [],
   "source": [
    "ada = AdaBoostClassifier(DecisionTreeClassifier(max_depth=9),n_estimators=150)\n",
    "ada.fit(X_train_new, y_train_new)"
   ]
  },
  {
   "cell_type": "code",
   "execution_count": 56,
   "id": "32bbba94",
   "metadata": {},
   "outputs": [
    {
     "data": {
      "text/plain": [
       "array([0, 0, 0, ..., 0, 1, 0], dtype=int64)"
      ]
     },
     "execution_count": 56,
     "metadata": {},
     "output_type": "execute_result"
    }
   ],
   "source": [
    "ada.score(X_test,y_test)\n",
    "predictions_ada = ada.predict(X_test)\n",
    "predictions_ada"
   ]
  },
  {
   "cell_type": "code",
   "execution_count": 57,
   "id": "77b6c2c1",
   "metadata": {},
   "outputs": [
    {
     "name": "stdout",
     "output_type": "stream",
     "text": [
      "Confusion matrix : \n",
      " [[ 654  148]\n",
      " [1137 9491]]\n",
      "Outcome values : \n",
      " 654 148 1137 9491\n",
      "Classification AdaBoostClassifier : \n",
      "               precision    recall  f1-score   support\n",
      "\n",
      "           1       0.37      0.82      0.50       802\n",
      "           0       0.98      0.89      0.94     10628\n",
      "\n",
      "    accuracy                           0.89     11430\n",
      "   macro avg       0.67      0.85      0.72     11430\n",
      "weighted avg       0.94      0.89      0.91     11430\n",
      "\n"
     ]
    }
   ],
   "source": [
    "# actual values\n",
    "actual = y_test\n",
    "# predicted values\n",
    "predicted =predictions_ada\n",
    "\n",
    "# confusion matrix\n",
    "matrixresult = confusion_matrix(actual,predicted, labels=[1,0])\n",
    "print('Confusion matrix : \\n',matrixresult)\n",
    "\n",
    "# outcome values order in sklearn\n",
    "tp, fn, fp, tn = confusion_matrix(actual,predicted,labels=[1,0]).reshape(-1)\n",
    "print('Outcome values : \\n', tp, fn, fp, tn)\n",
    "\n",
    "# classification report for precision, recall f1-score and accuracy\n",
    "matrix = classification_report(actual,predicted,labels=[1,0])\n",
    "print('Classification AdaBoostClassifier : \\n',matrix)"
   ]
  },
  {
   "cell_type": "code",
   "execution_count": 58,
   "id": "61696e09",
   "metadata": {},
   "outputs": [
    {
     "name": "stdout",
     "output_type": "stream",
     "text": [
      "Model saved as models/AdaBoostClassifier_model.joblib\n"
     ]
    }
   ],
   "source": [
    "model_filename_ada = \"models/AdaBoostClassifier_model.joblib\"\n",
    "joblib.dump(random, model_filename_ada)\n",
    "print(f\"Model saved as {model_filename_ada}\")"
   ]
  },
  {
   "cell_type": "code",
   "execution_count": null,
   "id": "01add375",
   "metadata": {},
   "outputs": [],
   "source": []
  },
  {
   "cell_type": "code",
   "execution_count": null,
   "id": "b69338f8",
   "metadata": {},
   "outputs": [],
   "source": []
  },
  {
   "cell_type": "code",
   "execution_count": 64,
   "id": "b5cf33ab",
   "metadata": {},
   "outputs": [],
   "source": [
    "from sklearn.ensemble import ExtraTreesClassifier\n",
    "from sklearn.metrics import accuracy_score"
   ]
  },
  {
   "cell_type": "code",
   "execution_count": 62,
   "id": "2bc3dd82",
   "metadata": {},
   "outputs": [
    {
     "data": {
      "text/html": [
       "<style>#sk-container-id-3 {color: black;}#sk-container-id-3 pre{padding: 0;}#sk-container-id-3 div.sk-toggleable {background-color: white;}#sk-container-id-3 label.sk-toggleable__label {cursor: pointer;display: block;width: 100%;margin-bottom: 0;padding: 0.3em;box-sizing: border-box;text-align: center;}#sk-container-id-3 label.sk-toggleable__label-arrow:before {content: \"▸\";float: left;margin-right: 0.25em;color: #696969;}#sk-container-id-3 label.sk-toggleable__label-arrow:hover:before {color: black;}#sk-container-id-3 div.sk-estimator:hover label.sk-toggleable__label-arrow:before {color: black;}#sk-container-id-3 div.sk-toggleable__content {max-height: 0;max-width: 0;overflow: hidden;text-align: left;background-color: #f0f8ff;}#sk-container-id-3 div.sk-toggleable__content pre {margin: 0.2em;color: black;border-radius: 0.25em;background-color: #f0f8ff;}#sk-container-id-3 input.sk-toggleable__control:checked~div.sk-toggleable__content {max-height: 200px;max-width: 100%;overflow: auto;}#sk-container-id-3 input.sk-toggleable__control:checked~label.sk-toggleable__label-arrow:before {content: \"▾\";}#sk-container-id-3 div.sk-estimator input.sk-toggleable__control:checked~label.sk-toggleable__label {background-color: #d4ebff;}#sk-container-id-3 div.sk-label input.sk-toggleable__control:checked~label.sk-toggleable__label {background-color: #d4ebff;}#sk-container-id-3 input.sk-hidden--visually {border: 0;clip: rect(1px 1px 1px 1px);clip: rect(1px, 1px, 1px, 1px);height: 1px;margin: -1px;overflow: hidden;padding: 0;position: absolute;width: 1px;}#sk-container-id-3 div.sk-estimator {font-family: monospace;background-color: #f0f8ff;border: 1px dotted black;border-radius: 0.25em;box-sizing: border-box;margin-bottom: 0.5em;}#sk-container-id-3 div.sk-estimator:hover {background-color: #d4ebff;}#sk-container-id-3 div.sk-parallel-item::after {content: \"\";width: 100%;border-bottom: 1px solid gray;flex-grow: 1;}#sk-container-id-3 div.sk-label:hover label.sk-toggleable__label {background-color: #d4ebff;}#sk-container-id-3 div.sk-serial::before {content: \"\";position: absolute;border-left: 1px solid gray;box-sizing: border-box;top: 0;bottom: 0;left: 50%;z-index: 0;}#sk-container-id-3 div.sk-serial {display: flex;flex-direction: column;align-items: center;background-color: white;padding-right: 0.2em;padding-left: 0.2em;position: relative;}#sk-container-id-3 div.sk-item {position: relative;z-index: 1;}#sk-container-id-3 div.sk-parallel {display: flex;align-items: stretch;justify-content: center;background-color: white;position: relative;}#sk-container-id-3 div.sk-item::before, #sk-container-id-3 div.sk-parallel-item::before {content: \"\";position: absolute;border-left: 1px solid gray;box-sizing: border-box;top: 0;bottom: 0;left: 50%;z-index: -1;}#sk-container-id-3 div.sk-parallel-item {display: flex;flex-direction: column;z-index: 1;position: relative;background-color: white;}#sk-container-id-3 div.sk-parallel-item:first-child::after {align-self: flex-end;width: 50%;}#sk-container-id-3 div.sk-parallel-item:last-child::after {align-self: flex-start;width: 50%;}#sk-container-id-3 div.sk-parallel-item:only-child::after {width: 0;}#sk-container-id-3 div.sk-dashed-wrapped {border: 1px dashed gray;margin: 0 0.4em 0.5em 0.4em;box-sizing: border-box;padding-bottom: 0.4em;background-color: white;}#sk-container-id-3 div.sk-label label {font-family: monospace;font-weight: bold;display: inline-block;line-height: 1.2em;}#sk-container-id-3 div.sk-label-container {text-align: center;}#sk-container-id-3 div.sk-container {/* jupyter's `normalize.less` sets `[hidden] { display: none; }` but bootstrap.min.css set `[hidden] { display: none !important; }` so we also need the `!important` here to be able to override the default hidden behavior on the sphinx rendered scikit-learn.org. See: https://github.com/scikit-learn/scikit-learn/issues/21755 */display: inline-block !important;position: relative;}#sk-container-id-3 div.sk-text-repr-fallback {display: none;}</style><div id=\"sk-container-id-3\" class=\"sk-top-container\"><div class=\"sk-text-repr-fallback\"><pre>ExtraTreesClassifier(random_state=0)</pre><b>In a Jupyter environment, please rerun this cell to show the HTML representation or trust the notebook. <br />On GitHub, the HTML representation is unable to render, please try loading this page with nbviewer.org.</b></div><div class=\"sk-container\" hidden><div class=\"sk-item\"><div class=\"sk-estimator sk-toggleable\"><input class=\"sk-toggleable__control sk-hidden--visually\" id=\"sk-estimator-id-3\" type=\"checkbox\" checked><label for=\"sk-estimator-id-3\" class=\"sk-toggleable__label sk-toggleable__label-arrow\">ExtraTreesClassifier</label><div class=\"sk-toggleable__content\"><pre>ExtraTreesClassifier(random_state=0)</pre></div></div></div></div></div>"
      ],
      "text/plain": [
       "ExtraTreesClassifier(random_state=0)"
      ]
     },
     "execution_count": 62,
     "metadata": {},
     "output_type": "execute_result"
    }
   ],
   "source": [
    "ETC = ExtraTreesClassifier(n_estimators=100, random_state=0)\n",
    "ETC.fit(X_train_new, y_train_new)"
   ]
  },
  {
   "cell_type": "code",
   "execution_count": 65,
   "id": "4f0c7a23",
   "metadata": {},
   "outputs": [
    {
     "name": "stdout",
     "output_type": "stream",
     "text": [
      "The accuracy score achieved using ExtraTrees Classifier is: 88.79 %\n"
     ]
    }
   ],
   "source": [
    "ETC_predictions = ETC.predict(X_test)\n",
    "\n",
    "score_ETC=round(accuracy_score(ETC_predictions,y_test)*100,2)\n",
    "print(\"The accuracy score achieved using ExtraTrees Classifier is: \"+str(score_ETC)+\" %\")"
   ]
  },
  {
   "cell_type": "code",
   "execution_count": 66,
   "id": "27c55335",
   "metadata": {},
   "outputs": [
    {
     "name": "stdout",
     "output_type": "stream",
     "text": [
      "Confusion matrix : \n",
      " [[ 656  146]\n",
      " [1135 9493]]\n",
      "Outcome values : \n",
      " 656 146 1135 9493\n",
      "Classification ExtraTreesClassifier : \n",
      "               precision    recall  f1-score   support\n",
      "\n",
      "           1       0.37      0.82      0.51       802\n",
      "           0       0.98      0.89      0.94     10628\n",
      "\n",
      "    accuracy                           0.89     11430\n",
      "   macro avg       0.68      0.86      0.72     11430\n",
      "weighted avg       0.94      0.89      0.91     11430\n",
      "\n"
     ]
    }
   ],
   "source": [
    "# actual values\n",
    "actual = y_test\n",
    "# predicted values\n",
    "predicted =ETC_predictions\n",
    "\n",
    "# confusion matrix\n",
    "matrixresult = confusion_matrix(actual,predicted, labels=[1,0])\n",
    "print('Confusion matrix : \\n',matrixresult)\n",
    "\n",
    "# outcome values order in sklearn\n",
    "tp, fn, fp, tn = confusion_matrix(actual,predicted,labels=[1,0]).reshape(-1)\n",
    "print('Outcome values : \\n', tp, fn, fp, tn)\n",
    "\n",
    "# classification report for precision, recall f1-score and accuracy\n",
    "matrix = classification_report(actual,predicted,labels=[1,0])\n",
    "print('Classification ExtraTreesClassifier : \\n',matrix)"
   ]
  },
  {
   "cell_type": "code",
   "execution_count": 67,
   "id": "e63d0637",
   "metadata": {},
   "outputs": [
    {
     "name": "stdout",
     "output_type": "stream",
     "text": [
      "Model saved as models/ExtraTreesClassifier.joblib\n"
     ]
    }
   ],
   "source": [
    "model_filename_ETree = \"models/ExtraTreesClassifier.joblib\"\n",
    "joblib.dump(random, model_filename_ETree)\n",
    "print(f\"Model saved as {model_filename_ETree}\")"
   ]
  },
  {
   "cell_type": "code",
   "execution_count": null,
   "id": "1c46725d",
   "metadata": {},
   "outputs": [],
   "source": []
  },
  {
   "cell_type": "code",
   "execution_count": null,
   "id": "8beb326b",
   "metadata": {},
   "outputs": [],
   "source": []
  },
  {
   "cell_type": "code",
   "execution_count": null,
   "id": "08a86190",
   "metadata": {},
   "outputs": [],
   "source": []
  },
  {
   "cell_type": "code",
   "execution_count": 77,
   "id": "a35e5521",
   "metadata": {},
   "outputs": [],
   "source": [
    "import tensorflow as tf\n",
    "from tensorflow import keras\n",
    "model=tf.keras.Sequential([\n",
    "    tf.keras.layers.Dense(20,input_shape=X_train_new.shape[1:],activation='relu'),\n",
    "    tf.keras.layers.Dense(10,activation='relu'),\n",
    "    tf.keras.layers.Dense(22,activation='sigmoid'),\n",
    "])"
   ]
  },
  {
   "cell_type": "code",
   "execution_count": 78,
   "id": "4eedeb83",
   "metadata": {},
   "outputs": [],
   "source": [
    "model.compile(optimizer='adam',loss='sparse_categorical_crossentropy',metrics=['accuracy'])"
   ]
  },
  {
   "cell_type": "code",
   "execution_count": 79,
   "id": "e3dd56c0",
   "metadata": {},
   "outputs": [
    {
     "name": "stdout",
     "output_type": "stream",
     "text": [
      "Epoch 1/200\n",
      "63/63 [==============================] - 0s 2ms/step - loss: 2.8481 - accuracy: 0.4684\n",
      "Epoch 2/200\n",
      "63/63 [==============================] - 0s 2ms/step - loss: 2.2643 - accuracy: 0.5000\n",
      "Epoch 3/200\n",
      "63/63 [==============================] - 0s 2ms/step - loss: 1.3324 - accuracy: 0.5000\n",
      "Epoch 4/200\n",
      "63/63 [==============================] - 0s 2ms/step - loss: 0.8362 - accuracy: 0.5000\n",
      "Epoch 5/200\n",
      "63/63 [==============================] - 0s 2ms/step - loss: 0.7113 - accuracy: 0.5000\n",
      "Epoch 6/200\n",
      "63/63 [==============================] - 0s 2ms/step - loss: 0.6716 - accuracy: 0.5000\n",
      "Epoch 7/200\n",
      "63/63 [==============================] - 0s 2ms/step - loss: 0.6541 - accuracy: 0.5000\n",
      "Epoch 8/200\n",
      "63/63 [==============================] - 0s 2ms/step - loss: 0.6189 - accuracy: 0.5000\n",
      "Epoch 9/200\n",
      "63/63 [==============================] - 0s 2ms/step - loss: 0.5757 - accuracy: 0.5000\n",
      "Epoch 10/200\n",
      "63/63 [==============================] - 0s 2ms/step - loss: 0.5350 - accuracy: 0.5000\n",
      "Epoch 11/200\n",
      "63/63 [==============================] - 0s 1ms/step - loss: 0.5203 - accuracy: 0.5000\n",
      "Epoch 12/200\n",
      "63/63 [==============================] - 0s 1ms/step - loss: 0.5151 - accuracy: 0.5000\n",
      "Epoch 13/200\n",
      "63/63 [==============================] - 0s 1ms/step - loss: 0.5123 - accuracy: 0.5000\n",
      "Epoch 14/200\n",
      "63/63 [==============================] - 0s 1ms/step - loss: 0.5104 - accuracy: 0.5000\n",
      "Epoch 15/200\n",
      "63/63 [==============================] - 0s 1ms/step - loss: 0.5092 - accuracy: 0.5000\n",
      "Epoch 16/200\n",
      "63/63 [==============================] - 0s 1ms/step - loss: 0.5079 - accuracy: 0.5000\n",
      "Epoch 17/200\n",
      "63/63 [==============================] - 0s 1ms/step - loss: 0.5067 - accuracy: 0.5000\n",
      "Epoch 18/200\n",
      "63/63 [==============================] - 0s 1ms/step - loss: 0.5060 - accuracy: 0.5000\n",
      "Epoch 19/200\n",
      "63/63 [==============================] - 0s 1ms/step - loss: 0.5052 - accuracy: 0.5000\n",
      "Epoch 20/200\n",
      "63/63 [==============================] - 0s 1ms/step - loss: 0.5047 - accuracy: 0.5000\n",
      "Epoch 21/200\n",
      "63/63 [==============================] - 0s 1ms/step - loss: 0.5042 - accuracy: 0.5000\n",
      "Epoch 22/200\n",
      "63/63 [==============================] - 0s 1ms/step - loss: 0.5038 - accuracy: 0.5000\n",
      "Epoch 23/200\n",
      "63/63 [==============================] - 0s 1ms/step - loss: 0.5033 - accuracy: 0.5000\n",
      "Epoch 24/200\n",
      "63/63 [==============================] - 0s 1ms/step - loss: 0.5028 - accuracy: 0.5000\n",
      "Epoch 25/200\n",
      "63/63 [==============================] - 0s 1ms/step - loss: 0.5025 - accuracy: 0.5000\n",
      "Epoch 26/200\n",
      "63/63 [==============================] - 0s 1ms/step - loss: 0.5021 - accuracy: 0.5000\n",
      "Epoch 27/200\n",
      "63/63 [==============================] - 0s 1ms/step - loss: 0.5019 - accuracy: 0.5000\n",
      "Epoch 28/200\n",
      "63/63 [==============================] - 0s 1ms/step - loss: 0.5019 - accuracy: 0.5000\n",
      "Epoch 29/200\n",
      "63/63 [==============================] - 0s 1ms/step - loss: 0.5013 - accuracy: 0.5000\n",
      "Epoch 30/200\n",
      "63/63 [==============================] - 0s 1ms/step - loss: 0.5010 - accuracy: 0.5000\n",
      "Epoch 31/200\n",
      "63/63 [==============================] - 0s 1ms/step - loss: 0.5006 - accuracy: 0.5000\n",
      "Epoch 32/200\n",
      "63/63 [==============================] - 0s 1ms/step - loss: 0.5004 - accuracy: 0.5000\n",
      "Epoch 33/200\n",
      "63/63 [==============================] - 0s 1ms/step - loss: 0.5002 - accuracy: 0.5000\n",
      "Epoch 34/200\n",
      "63/63 [==============================] - 0s 1ms/step - loss: 0.4999 - accuracy: 0.5000\n",
      "Epoch 35/200\n",
      "63/63 [==============================] - 0s 1ms/step - loss: 0.4999 - accuracy: 0.5000\n",
      "Epoch 36/200\n",
      "63/63 [==============================] - 0s 1ms/step - loss: 0.4995 - accuracy: 0.5000\n",
      "Epoch 37/200\n",
      "63/63 [==============================] - 0s 1ms/step - loss: 0.4993 - accuracy: 0.5000\n",
      "Epoch 38/200\n",
      "63/63 [==============================] - 0s 1ms/step - loss: 0.4991 - accuracy: 0.5000\n",
      "Epoch 39/200\n",
      "63/63 [==============================] - 0s 1ms/step - loss: 0.4989 - accuracy: 0.5000\n",
      "Epoch 40/200\n",
      "63/63 [==============================] - 0s 2ms/step - loss: 0.4985 - accuracy: 0.5000\n",
      "Epoch 41/200\n",
      "63/63 [==============================] - 0s 2ms/step - loss: 0.4982 - accuracy: 0.5000\n",
      "Epoch 42/200\n",
      "63/63 [==============================] - 0s 1ms/step - loss: 0.4982 - accuracy: 0.5000\n",
      "Epoch 43/200\n",
      "63/63 [==============================] - 0s 1ms/step - loss: 0.4981 - accuracy: 0.5000\n",
      "Epoch 44/200\n",
      "63/63 [==============================] - 0s 1ms/step - loss: 0.4978 - accuracy: 0.5000\n",
      "Epoch 45/200\n",
      "63/63 [==============================] - 0s 1ms/step - loss: 0.4972 - accuracy: 0.5000\n",
      "Epoch 46/200\n",
      "63/63 [==============================] - 0s 1ms/step - loss: 0.4968 - accuracy: 0.5000\n",
      "Epoch 47/200\n",
      "63/63 [==============================] - 0s 1ms/step - loss: 0.4964 - accuracy: 0.5000\n",
      "Epoch 48/200\n",
      "63/63 [==============================] - 0s 2ms/step - loss: 0.4962 - accuracy: 0.5000\n",
      "Epoch 49/200\n",
      "63/63 [==============================] - 0s 1ms/step - loss: 0.4956 - accuracy: 0.5000\n",
      "Epoch 50/200\n",
      "63/63 [==============================] - 0s 2ms/step - loss: 0.4952 - accuracy: 0.5000\n",
      "Epoch 51/200\n",
      "63/63 [==============================] - 0s 1ms/step - loss: 0.4948 - accuracy: 0.5000\n",
      "Epoch 52/200\n",
      "63/63 [==============================] - 0s 2ms/step - loss: 0.4947 - accuracy: 0.5000\n",
      "Epoch 53/200\n",
      "63/63 [==============================] - 0s 1ms/step - loss: 0.4942 - accuracy: 0.5000\n",
      "Epoch 54/200\n",
      "63/63 [==============================] - 0s 1ms/step - loss: 0.4941 - accuracy: 0.5000\n",
      "Epoch 55/200\n",
      "63/63 [==============================] - 0s 1ms/step - loss: 0.4934 - accuracy: 0.5000\n",
      "Epoch 56/200\n",
      "63/63 [==============================] - 0s 1ms/step - loss: 0.4931 - accuracy: 0.5000\n",
      "Epoch 57/200\n",
      "63/63 [==============================] - 0s 1ms/step - loss: 0.4926 - accuracy: 0.5000\n",
      "Epoch 58/200\n",
      "63/63 [==============================] - 0s 1ms/step - loss: 0.4925 - accuracy: 0.5000\n",
      "Epoch 59/200\n",
      "63/63 [==============================] - 0s 1ms/step - loss: 0.4921 - accuracy: 0.5000\n",
      "Epoch 60/200\n",
      "63/63 [==============================] - 0s 2ms/step - loss: 0.4919 - accuracy: 0.5000\n",
      "Epoch 61/200\n",
      "63/63 [==============================] - 0s 1ms/step - loss: 0.4917 - accuracy: 0.5000\n",
      "Epoch 62/200\n",
      "63/63 [==============================] - 0s 1ms/step - loss: 0.4912 - accuracy: 0.5000\n",
      "Epoch 63/200\n",
      "63/63 [==============================] - 0s 1ms/step - loss: 0.4910 - accuracy: 0.5000\n",
      "Epoch 64/200\n",
      "63/63 [==============================] - 0s 1ms/step - loss: 0.4907 - accuracy: 0.5000\n",
      "Epoch 65/200\n",
      "63/63 [==============================] - 0s 1ms/step - loss: 0.4905 - accuracy: 0.5000\n",
      "Epoch 66/200\n",
      "63/63 [==============================] - 0s 1ms/step - loss: 0.4903 - accuracy: 0.5000\n",
      "Epoch 67/200\n",
      "63/63 [==============================] - 0s 1ms/step - loss: 0.4898 - accuracy: 0.5000\n",
      "Epoch 68/200\n",
      "63/63 [==============================] - 0s 1ms/step - loss: 0.4898 - accuracy: 0.5000\n",
      "Epoch 69/200\n",
      "63/63 [==============================] - 0s 1ms/step - loss: 0.4896 - accuracy: 0.5000\n",
      "Epoch 70/200\n",
      "63/63 [==============================] - 0s 1ms/step - loss: 0.4893 - accuracy: 0.5000\n",
      "Epoch 71/200\n",
      "63/63 [==============================] - 0s 1ms/step - loss: 0.4891 - accuracy: 0.5000\n",
      "Epoch 72/200\n",
      "63/63 [==============================] - 0s 1ms/step - loss: 0.4895 - accuracy: 0.5000\n",
      "Epoch 73/200\n",
      "63/63 [==============================] - 0s 1ms/step - loss: 0.4889 - accuracy: 0.5000\n",
      "Epoch 74/200\n",
      "63/63 [==============================] - 0s 1ms/step - loss: 0.4888 - accuracy: 0.5000\n",
      "Epoch 75/200\n",
      "63/63 [==============================] - 0s 1ms/step - loss: 0.4887 - accuracy: 0.5000\n",
      "Epoch 76/200\n",
      "63/63 [==============================] - 0s 1ms/step - loss: 0.4885 - accuracy: 0.5000\n",
      "Epoch 77/200\n",
      "63/63 [==============================] - 0s 1ms/step - loss: 0.4883 - accuracy: 0.5000\n",
      "Epoch 78/200\n",
      "63/63 [==============================] - 0s 1ms/step - loss: 0.4883 - accuracy: 0.5000\n",
      "Epoch 79/200\n",
      "63/63 [==============================] - 0s 1ms/step - loss: 0.4886 - accuracy: 0.5000\n",
      "Epoch 80/200\n",
      "63/63 [==============================] - 0s 1ms/step - loss: 0.4882 - accuracy: 0.5000\n",
      "Epoch 81/200\n",
      "63/63 [==============================] - 0s 1ms/step - loss: 0.4880 - accuracy: 0.5000\n",
      "Epoch 82/200\n",
      "63/63 [==============================] - 0s 1ms/step - loss: 0.4882 - accuracy: 0.5000\n",
      "Epoch 83/200\n"
     ]
    },
    {
     "name": "stdout",
     "output_type": "stream",
     "text": [
      "63/63 [==============================] - 0s 1ms/step - loss: 0.4881 - accuracy: 0.5000\n",
      "Epoch 84/200\n",
      "63/63 [==============================] - 0s 1ms/step - loss: 0.4879 - accuracy: 0.5000\n",
      "Epoch 85/200\n",
      "63/63 [==============================] - 0s 1ms/step - loss: 0.4879 - accuracy: 0.5000\n",
      "Epoch 86/200\n",
      "63/63 [==============================] - 0s 1ms/step - loss: 0.4877 - accuracy: 0.5000\n",
      "Epoch 87/200\n",
      "63/63 [==============================] - 0s 1ms/step - loss: 0.4877 - accuracy: 0.5000\n",
      "Epoch 88/200\n",
      "63/63 [==============================] - 0s 1ms/step - loss: 0.4877 - accuracy: 0.5000\n",
      "Epoch 89/200\n",
      "63/63 [==============================] - 0s 1ms/step - loss: 0.4877 - accuracy: 0.5000\n",
      "Epoch 90/200\n",
      "63/63 [==============================] - 0s 1ms/step - loss: 0.4876 - accuracy: 0.5000\n",
      "Epoch 91/200\n",
      "63/63 [==============================] - 0s 1ms/step - loss: 0.4873 - accuracy: 0.5000\n",
      "Epoch 92/200\n",
      "63/63 [==============================] - 0s 1ms/step - loss: 0.4875 - accuracy: 0.5000\n",
      "Epoch 93/200\n",
      "63/63 [==============================] - 0s 1ms/step - loss: 0.4873 - accuracy: 0.5000\n",
      "Epoch 94/200\n",
      "63/63 [==============================] - 0s 1ms/step - loss: 0.4872 - accuracy: 0.5000\n",
      "Epoch 95/200\n",
      "63/63 [==============================] - 0s 1ms/step - loss: 0.4871 - accuracy: 0.5000\n",
      "Epoch 96/200\n",
      "63/63 [==============================] - 0s 1ms/step - loss: 0.4870 - accuracy: 0.5000\n",
      "Epoch 97/200\n",
      "63/63 [==============================] - 0s 1ms/step - loss: 0.4870 - accuracy: 0.5000\n",
      "Epoch 98/200\n",
      "63/63 [==============================] - 0s 1ms/step - loss: 0.4869 - accuracy: 0.5000\n",
      "Epoch 99/200\n",
      "63/63 [==============================] - 0s 1ms/step - loss: 0.4872 - accuracy: 0.5000\n",
      "Epoch 100/200\n",
      "63/63 [==============================] - 0s 1ms/step - loss: 0.4869 - accuracy: 0.5000\n",
      "Epoch 101/200\n",
      "63/63 [==============================] - 0s 1ms/step - loss: 0.4867 - accuracy: 0.5000\n",
      "Epoch 102/200\n",
      "63/63 [==============================] - 0s 1ms/step - loss: 0.4867 - accuracy: 0.5000\n",
      "Epoch 103/200\n",
      "63/63 [==============================] - 0s 1ms/step - loss: 0.4870 - accuracy: 0.5000\n",
      "Epoch 104/200\n",
      "63/63 [==============================] - 0s 1ms/step - loss: 0.4867 - accuracy: 0.5000\n",
      "Epoch 105/200\n",
      "63/63 [==============================] - 0s 1ms/step - loss: 0.4865 - accuracy: 0.5000\n",
      "Epoch 106/200\n",
      "63/63 [==============================] - 0s 1ms/step - loss: 0.4864 - accuracy: 0.5000\n",
      "Epoch 107/200\n",
      "63/63 [==============================] - 0s 1ms/step - loss: 0.4864 - accuracy: 0.5000\n",
      "Epoch 108/200\n",
      "63/63 [==============================] - 0s 1ms/step - loss: 0.4865 - accuracy: 0.5000\n",
      "Epoch 109/200\n",
      "63/63 [==============================] - 0s 1ms/step - loss: 0.4867 - accuracy: 0.5000\n",
      "Epoch 110/200\n",
      "63/63 [==============================] - 0s 1ms/step - loss: 0.4864 - accuracy: 0.5000\n",
      "Epoch 111/200\n",
      "63/63 [==============================] - 0s 1ms/step - loss: 0.4862 - accuracy: 0.5000\n",
      "Epoch 112/200\n",
      "63/63 [==============================] - 0s 1ms/step - loss: 0.4862 - accuracy: 0.5000\n",
      "Epoch 113/200\n",
      "63/63 [==============================] - 0s 1ms/step - loss: 0.4861 - accuracy: 0.5000\n",
      "Epoch 114/200\n",
      "63/63 [==============================] - 0s 1ms/step - loss: 0.4861 - accuracy: 0.5000\n",
      "Epoch 115/200\n",
      "63/63 [==============================] - 0s 1ms/step - loss: 0.4860 - accuracy: 0.5000\n",
      "Epoch 116/200\n",
      "63/63 [==============================] - 0s 1ms/step - loss: 0.4859 - accuracy: 0.5000\n",
      "Epoch 117/200\n",
      "63/63 [==============================] - 0s 1ms/step - loss: 0.4860 - accuracy: 0.5000\n",
      "Epoch 118/200\n",
      "63/63 [==============================] - 0s 1ms/step - loss: 0.4866 - accuracy: 0.5000\n",
      "Epoch 119/200\n",
      "63/63 [==============================] - 0s 1ms/step - loss: 0.4863 - accuracy: 0.5000\n",
      "Epoch 120/200\n",
      "63/63 [==============================] - 0s 1ms/step - loss: 0.4863 - accuracy: 0.5000\n",
      "Epoch 121/200\n",
      "63/63 [==============================] - 0s 1ms/step - loss: 0.4863 - accuracy: 0.5000\n",
      "Epoch 122/200\n",
      "63/63 [==============================] - 0s 1ms/step - loss: 0.4863 - accuracy: 0.5000\n",
      "Epoch 123/200\n",
      "63/63 [==============================] - 0s 1ms/step - loss: 0.4861 - accuracy: 0.5000\n",
      "Epoch 124/200\n",
      "63/63 [==============================] - 0s 1ms/step - loss: 0.4858 - accuracy: 0.5000\n",
      "Epoch 125/200\n",
      "63/63 [==============================] - 0s 1ms/step - loss: 0.4856 - accuracy: 0.5000\n",
      "Epoch 126/200\n",
      "63/63 [==============================] - 0s 1ms/step - loss: 0.4856 - accuracy: 0.5000\n",
      "Epoch 127/200\n",
      "63/63 [==============================] - 0s 1ms/step - loss: 0.4857 - accuracy: 0.5000\n",
      "Epoch 128/200\n",
      "63/63 [==============================] - 0s 2ms/step - loss: 0.4857 - accuracy: 0.5000\n",
      "Epoch 129/200\n",
      "63/63 [==============================] - 0s 1ms/step - loss: 0.4856 - accuracy: 0.5000\n",
      "Epoch 130/200\n",
      "63/63 [==============================] - 0s 2ms/step - loss: 0.4855 - accuracy: 0.5000\n",
      "Epoch 131/200\n",
      "63/63 [==============================] - 0s 2ms/step - loss: 0.4852 - accuracy: 0.5000\n",
      "Epoch 132/200\n",
      "63/63 [==============================] - 0s 1ms/step - loss: 0.4852 - accuracy: 0.5000\n",
      "Epoch 133/200\n",
      "63/63 [==============================] - 0s 1ms/step - loss: 0.4851 - accuracy: 0.5000\n",
      "Epoch 134/200\n",
      "63/63 [==============================] - 0s 1ms/step - loss: 0.4853 - accuracy: 0.5000\n",
      "Epoch 135/200\n",
      "63/63 [==============================] - 0s 1ms/step - loss: 0.4853 - accuracy: 0.5000\n",
      "Epoch 136/200\n",
      "63/63 [==============================] - 0s 1ms/step - loss: 0.4854 - accuracy: 0.5000\n",
      "Epoch 137/200\n",
      "63/63 [==============================] - 0s 1ms/step - loss: 0.4853 - accuracy: 0.5000\n",
      "Epoch 138/200\n",
      "63/63 [==============================] - 0s 1ms/step - loss: 0.4852 - accuracy: 0.5000\n",
      "Epoch 139/200\n",
      "63/63 [==============================] - 0s 1ms/step - loss: 0.4850 - accuracy: 0.5000\n",
      "Epoch 140/200\n",
      "63/63 [==============================] - 0s 1ms/step - loss: 0.4851 - accuracy: 0.5000\n",
      "Epoch 141/200\n",
      "63/63 [==============================] - 0s 1ms/step - loss: 0.4852 - accuracy: 0.5000\n",
      "Epoch 142/200\n",
      "63/63 [==============================] - 0s 1ms/step - loss: 0.4853 - accuracy: 0.5000\n",
      "Epoch 143/200\n",
      "63/63 [==============================] - 0s 1ms/step - loss: 0.4853 - accuracy: 0.5000\n",
      "Epoch 144/200\n",
      "63/63 [==============================] - 0s 1ms/step - loss: 0.4851 - accuracy: 0.5000\n",
      "Epoch 145/200\n",
      "63/63 [==============================] - 0s 1ms/step - loss: 0.4851 - accuracy: 0.5000\n",
      "Epoch 146/200\n",
      "63/63 [==============================] - 0s 1ms/step - loss: 0.4851 - accuracy: 0.5000\n",
      "Epoch 147/200\n",
      "63/63 [==============================] - 0s 1ms/step - loss: 0.4853 - accuracy: 0.5000\n",
      "Epoch 148/200\n",
      "63/63 [==============================] - 0s 1ms/step - loss: 0.4852 - accuracy: 0.5000\n",
      "Epoch 149/200\n",
      "63/63 [==============================] - 0s 1ms/step - loss: 0.4850 - accuracy: 0.5000\n",
      "Epoch 150/200\n",
      "63/63 [==============================] - 0s 1ms/step - loss: 0.4848 - accuracy: 0.5000\n",
      "Epoch 151/200\n",
      "63/63 [==============================] - 0s 1ms/step - loss: 0.4848 - accuracy: 0.5000\n",
      "Epoch 152/200\n",
      "63/63 [==============================] - 0s 1ms/step - loss: 0.4852 - accuracy: 0.5000\n",
      "Epoch 153/200\n",
      "63/63 [==============================] - 0s 1ms/step - loss: 0.4852 - accuracy: 0.5000\n",
      "Epoch 154/200\n",
      "63/63 [==============================] - 0s 1ms/step - loss: 0.4850 - accuracy: 0.5000\n",
      "Epoch 155/200\n",
      "63/63 [==============================] - 0s 1ms/step - loss: 0.4850 - accuracy: 0.5000\n",
      "Epoch 156/200\n",
      "63/63 [==============================] - 0s 1ms/step - loss: 0.4848 - accuracy: 0.5000\n",
      "Epoch 157/200\n",
      "63/63 [==============================] - 0s 1ms/step - loss: 0.4850 - accuracy: 0.5000\n",
      "Epoch 158/200\n",
      "63/63 [==============================] - 0s 1ms/step - loss: 0.4849 - accuracy: 0.5000\n",
      "Epoch 159/200\n",
      "63/63 [==============================] - 0s 1ms/step - loss: 0.4849 - accuracy: 0.5000\n",
      "Epoch 160/200\n",
      "63/63 [==============================] - 0s 1ms/step - loss: 0.4849 - accuracy: 0.5000\n",
      "Epoch 161/200\n",
      "63/63 [==============================] - 0s 1ms/step - loss: 0.4846 - accuracy: 0.5000\n",
      "Epoch 162/200\n",
      "63/63 [==============================] - 0s 1ms/step - loss: 0.4845 - accuracy: 0.5000\n",
      "Epoch 163/200\n",
      "63/63 [==============================] - 0s 1ms/step - loss: 0.4846 - accuracy: 0.5000\n",
      "Epoch 164/200\n"
     ]
    },
    {
     "name": "stdout",
     "output_type": "stream",
     "text": [
      "63/63 [==============================] - 0s 1ms/step - loss: 0.4849 - accuracy: 0.5000\n",
      "Epoch 165/200\n",
      "63/63 [==============================] - 0s 1ms/step - loss: 0.4849 - accuracy: 0.5000\n",
      "Epoch 166/200\n",
      "63/63 [==============================] - 0s 1ms/step - loss: 0.4848 - accuracy: 0.5000\n",
      "Epoch 167/200\n",
      "63/63 [==============================] - 0s 1ms/step - loss: 0.4852 - accuracy: 0.5000\n",
      "Epoch 168/200\n",
      "63/63 [==============================] - 0s 1ms/step - loss: 0.4848 - accuracy: 0.5000\n",
      "Epoch 169/200\n",
      "63/63 [==============================] - 0s 1ms/step - loss: 0.4846 - accuracy: 0.5000\n",
      "Epoch 170/200\n",
      "63/63 [==============================] - 0s 1ms/step - loss: 0.4846 - accuracy: 0.5000\n",
      "Epoch 171/200\n",
      "63/63 [==============================] - 0s 1ms/step - loss: 0.4845 - accuracy: 0.5000\n",
      "Epoch 172/200\n",
      "63/63 [==============================] - 0s 1ms/step - loss: 0.4846 - accuracy: 0.5000\n",
      "Epoch 173/200\n",
      "63/63 [==============================] - 0s 1ms/step - loss: 0.4843 - accuracy: 0.5000\n",
      "Epoch 174/200\n",
      "63/63 [==============================] - 0s 1ms/step - loss: 0.4843 - accuracy: 0.5000\n",
      "Epoch 175/200\n",
      "63/63 [==============================] - 0s 1ms/step - loss: 0.4843 - accuracy: 0.5000\n",
      "Epoch 176/200\n",
      "63/63 [==============================] - 0s 1ms/step - loss: 0.4850 - accuracy: 0.5000\n",
      "Epoch 177/200\n",
      "63/63 [==============================] - 0s 1ms/step - loss: 0.4844 - accuracy: 0.5000\n",
      "Epoch 178/200\n",
      "63/63 [==============================] - 0s 1ms/step - loss: 0.4844 - accuracy: 0.5000\n",
      "Epoch 179/200\n",
      "63/63 [==============================] - 0s 1ms/step - loss: 0.4843 - accuracy: 0.5000\n",
      "Epoch 180/200\n",
      "63/63 [==============================] - 0s 1ms/step - loss: 0.4842 - accuracy: 0.5000\n",
      "Epoch 181/200\n",
      "63/63 [==============================] - 0s 1ms/step - loss: 0.4844 - accuracy: 0.5000\n",
      "Epoch 182/200\n",
      "63/63 [==============================] - 0s 1ms/step - loss: 0.4843 - accuracy: 0.5000\n",
      "Epoch 183/200\n",
      "63/63 [==============================] - 0s 1ms/step - loss: 0.4843 - accuracy: 0.5000\n",
      "Epoch 184/200\n",
      "63/63 [==============================] - 0s 1ms/step - loss: 0.4843 - accuracy: 0.5000\n",
      "Epoch 185/200\n",
      "63/63 [==============================] - 0s 1ms/step - loss: 0.4842 - accuracy: 0.5000\n",
      "Epoch 186/200\n",
      "63/63 [==============================] - 0s 1ms/step - loss: 0.4843 - accuracy: 0.5000\n",
      "Epoch 187/200\n",
      "63/63 [==============================] - 0s 1ms/step - loss: 0.4842 - accuracy: 0.5000\n",
      "Epoch 188/200\n",
      "63/63 [==============================] - 0s 1ms/step - loss: 0.4842 - accuracy: 0.5000\n",
      "Epoch 189/200\n",
      "63/63 [==============================] - 0s 1ms/step - loss: 0.4845 - accuracy: 0.5003\n",
      "Epoch 190/200\n",
      "63/63 [==============================] - 0s 1ms/step - loss: 0.4845 - accuracy: 0.5003\n",
      "Epoch 191/200\n",
      "63/63 [==============================] - 0s 1ms/step - loss: 0.4845 - accuracy: 0.5003\n",
      "Epoch 192/200\n",
      "63/63 [==============================] - 0s 1ms/step - loss: 0.4847 - accuracy: 0.5005\n",
      "Epoch 193/200\n",
      "63/63 [==============================] - 0s 1ms/step - loss: 0.4846 - accuracy: 0.5004\n",
      "Epoch 194/200\n",
      "63/63 [==============================] - 0s 1ms/step - loss: 0.4849 - accuracy: 0.5010\n",
      "Epoch 195/200\n",
      "63/63 [==============================] - 0s 1ms/step - loss: 0.4844 - accuracy: 0.5006\n",
      "Epoch 196/200\n",
      "63/63 [==============================] - 0s 1ms/step - loss: 0.4841 - accuracy: 0.5013\n",
      "Epoch 197/200\n",
      "63/63 [==============================] - 0s 1ms/step - loss: 0.4840 - accuracy: 0.5013\n",
      "Epoch 198/200\n",
      "63/63 [==============================] - 0s 1ms/step - loss: 0.4842 - accuracy: 0.5020\n",
      "Epoch 199/200\n",
      "63/63 [==============================] - 0s 1ms/step - loss: 0.4846 - accuracy: 0.5026\n",
      "Epoch 200/200\n",
      "63/63 [==============================] - 0s 1ms/step - loss: 0.4844 - accuracy: 0.5027\n"
     ]
    },
    {
     "data": {
      "text/plain": [
       "<tensorflow.python.keras.callbacks.History at 0x134d4380dc0>"
      ]
     },
     "execution_count": 79,
     "metadata": {},
     "output_type": "execute_result"
    }
   ],
   "source": [
    "model.fit(X_train_new, y_train_new,epochs=200, batch_size=1024)"
   ]
  },
  {
   "cell_type": "code",
   "execution_count": 80,
   "id": "e1e04777",
   "metadata": {},
   "outputs": [
    {
     "name": "stdout",
     "output_type": "stream",
     "text": [
      "358/358 [==============================] - 0s 603us/step - loss: 0.2442 - accuracy: 0.9220\n"
     ]
    },
    {
     "data": {
      "text/plain": [
       "[0.24421384930610657, 0.9220472574234009]"
      ]
     },
     "execution_count": 80,
     "metadata": {},
     "output_type": "execute_result"
    }
   ],
   "source": [
    "model.evaluate(X_test,y_test)"
   ]
  },
  {
   "cell_type": "code",
   "execution_count": 83,
   "id": "7e767c0a",
   "metadata": {},
   "outputs": [
    {
     "name": "stdout",
     "output_type": "stream",
     "text": [
      "INFO:tensorflow:Assets written to: NN_Criminal.hp5\\assets\n"
     ]
    }
   ],
   "source": [
    "model.save('NN_Criminal.hp5')"
   ]
  },
  {
   "cell_type": "code",
   "execution_count": null,
   "id": "b4764a19",
   "metadata": {},
   "outputs": [],
   "source": []
  }
 ],
 "metadata": {
  "kernelspec": {
   "display_name": "Python 3 (ipykernel)",
   "language": "python",
   "name": "python3"
  },
  "language_info": {
   "codemirror_mode": {
    "name": "ipython",
    "version": 3
   },
   "file_extension": ".py",
   "mimetype": "text/x-python",
   "name": "python",
   "nbconvert_exporter": "python",
   "pygments_lexer": "ipython3",
   "version": "3.8.0"
  }
 },
 "nbformat": 4,
 "nbformat_minor": 5
}
