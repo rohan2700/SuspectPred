{
 "cells": [
  {
   "cell_type": "code",
   "execution_count": 1,
   "id": "6ca77aec",
   "metadata": {},
   "outputs": [
    {
     "name": "stderr",
     "output_type": "stream",
     "text": [
      "C:\\Users\\yashs\\anaconda3\\envs\\pyproject\\lib\\site-packages\\numpy\\_distributor_init.py:30: UserWarning: loaded more than 1 DLL from .libs:\n",
      "C:\\Users\\yashs\\anaconda3\\envs\\pyproject\\lib\\site-packages\\numpy\\.libs\\libopenblas.FB5AE2TYXYH2IJRDKGDGQ3XBKLKTF43H.gfortran-win_amd64.dll\n",
      "C:\\Users\\yashs\\anaconda3\\envs\\pyproject\\lib\\site-packages\\numpy\\.libs\\libopenblas.WCDJNK7YVMPZQ2ME2ZZHJJRJ3JIKNDB7.gfortran-win_amd64.dll\n",
      "  warnings.warn(\"loaded more than 1 DLL from .libs:\"\n"
     ]
    }
   ],
   "source": [
    "from sklearn.linear_model import LogisticRegression # Logistic Regression\n",
    "from sklearn.neighbors import KNeighborsClassifier # K-Nearest Neighbbors\n",
    "from sklearn.tree import DecisionTreeClassifier # Decision Tree\n",
    "from sklearn.ensemble import RandomForestClassifier\n",
    "from sklearn.svm import SVC\n",
    "import pandas as pd\n",
    "import numpy as np\n",
    "import matplotlib.pyplot as plt\n",
    "import seaborn as sns\n",
    "from sklearn import preprocessing\n",
    "from sklearn.preprocessing import RobustScaler\n",
    "import joblib"
   ]
  },
  {
   "cell_type": "code",
   "execution_count": 2,
   "id": "80c1daef",
   "metadata": {},
   "outputs": [],
   "source": [
    "selected_col = ['NRCH17_2','IRHH65_2','GRPHLTIN','HLTINNOS','HLCLAST','IRMEDICR',\n",
    "               'IRPRVHLT','IROTHHLT','IRFAMSOC','IRPINC3','POVERTY3','Criminal']"
   ]
  },
  {
   "cell_type": "markdown",
   "id": "59003635",
   "metadata": {},
   "source": []
  },
  {
   "cell_type": "code",
   "execution_count": 3,
   "id": "a6b0367d",
   "metadata": {},
   "outputs": [],
   "source": [
    "encoded_df=pd.read_csv(\"preprocess.csv\")[selected_col]"
   ]
  },
  {
   "cell_type": "code",
   "execution_count": 4,
   "id": "fb89f073",
   "metadata": {},
   "outputs": [],
   "source": [
    "to_scale = [col for col in encoded_df.columns if encoded_df[col].max()>1]\n",
    "scaler = RobustScaler()\n",
    "scaled =scaler.fit_transform(encoded_df[to_scale])\n",
    "scaled = pd.DataFrame(scaled, columns=to_scale)"
   ]
  },
  {
   "cell_type": "code",
   "execution_count": 5,
   "id": "80a10032",
   "metadata": {},
   "outputs": [],
   "source": [
    "NRCH17_2='0'\n",
    "IRHH65_2='1'\n",
    "GRPHLTIN='1'\n",
    "HLTINNOS='99'\n",
    "HLCLAST='99'\n",
    "IRMEDICR='2'\n",
    "IRPRVHLT='1'\n",
    "IROTHHLT='99'\n",
    "IRFAMSOC='2'\n",
    "IRPINC3='1'\n",
    "POVERTY3='2'"
   ]
  },
  {
   "cell_type": "code",
   "execution_count": 6,
   "id": "0399578f",
   "metadata": {},
   "outputs": [],
   "source": [
    "data_list = [\n",
    "    float(NRCH17_2),\n",
    "    float(IRHH65_2),\n",
    "    float(GRPHLTIN),\n",
    "    float(HLTINNOS),\n",
    "    float(HLCLAST),\n",
    "    float(IRMEDICR),\n",
    "    float(IRPRVHLT),\n",
    "    float(IROTHHLT),\n",
    "    float(IRFAMSOC),\n",
    "    float(IRPINC3),\n",
    "    float(POVERTY3)\n",
    "]\n",
    "\n",
    "# Creating DataFrame from the list\n",
    "df = pd.DataFrame([data_list], columns=[\n",
    "    'NRCH17_2', 'IRHH65_2', 'GRPHLTIN', 'HLTINNOS', 'HLCLAST',\n",
    "    'IRMEDICR', 'IRPRVHLT', 'IROTHHLT', 'IRFAMSOC', 'IRPINC3', 'POVERTY3'\n",
    "])"
   ]
  },
  {
   "cell_type": "code",
   "execution_count": 7,
   "id": "1811191d",
   "metadata": {},
   "outputs": [],
   "source": [
    "df2=scaler.transform(df[to_scale])    \n",
    "df2=pd.DataFrame(df2,columns=to_scale)"
   ]
  },
  {
   "cell_type": "code",
   "execution_count": 8,
   "id": "43da7fa5",
   "metadata": {},
   "outputs": [
    {
     "data": {
      "text/html": [
       "<div>\n",
       "<style scoped>\n",
       "    .dataframe tbody tr th:only-of-type {\n",
       "        vertical-align: middle;\n",
       "    }\n",
       "\n",
       "    .dataframe tbody tr th {\n",
       "        vertical-align: top;\n",
       "    }\n",
       "\n",
       "    .dataframe thead th {\n",
       "        text-align: right;\n",
       "    }\n",
       "</style>\n",
       "<table border=\"1\" class=\"dataframe\">\n",
       "  <thead>\n",
       "    <tr style=\"text-align: right;\">\n",
       "      <th></th>\n",
       "      <th>NRCH17_2</th>\n",
       "      <th>IRHH65_2</th>\n",
       "      <th>GRPHLTIN</th>\n",
       "      <th>HLTINNOS</th>\n",
       "      <th>HLCLAST</th>\n",
       "      <th>IRMEDICR</th>\n",
       "      <th>IRPRVHLT</th>\n",
       "      <th>IROTHHLT</th>\n",
       "      <th>IRFAMSOC</th>\n",
       "      <th>IRPINC3</th>\n",
       "      <th>POVERTY3</th>\n",
       "    </tr>\n",
       "  </thead>\n",
       "  <tbody>\n",
       "    <tr>\n",
       "      <th>0</th>\n",
       "      <td>0.0</td>\n",
       "      <td>0.0</td>\n",
       "      <td>0.0</td>\n",
       "      <td>0.0</td>\n",
       "      <td>0.0</td>\n",
       "      <td>0.0</td>\n",
       "      <td>0.0</td>\n",
       "      <td>0.0</td>\n",
       "      <td>0.0</td>\n",
       "      <td>-0.333333</td>\n",
       "      <td>-1.0</td>\n",
       "    </tr>\n",
       "  </tbody>\n",
       "</table>\n",
       "</div>"
      ],
      "text/plain": [
       "   NRCH17_2  IRHH65_2  GRPHLTIN  HLTINNOS  HLCLAST  IRMEDICR  IRPRVHLT  \\\n",
       "0       0.0       0.0       0.0       0.0      0.0       0.0       0.0   \n",
       "\n",
       "   IROTHHLT  IRFAMSOC   IRPINC3  POVERTY3  \n",
       "0       0.0       0.0 -0.333333      -1.0  "
      ]
     },
     "execution_count": 8,
     "metadata": {},
     "output_type": "execute_result"
    }
   ],
   "source": [
    "df2"
   ]
  },
  {
   "cell_type": "code",
   "execution_count": 9,
   "id": "3b8832b8",
   "metadata": {},
   "outputs": [
    {
     "name": "stdout",
     "output_type": "stream",
     "text": [
      "models/KNeighbors_Classifier_Classify_model.joblib\n"
     ]
    }
   ],
   "source": [
    "model_filename1 = \"models/KNeighbors_Classifier_Classify_model.joblib\"\n",
    "print(model_filename1)\n",
    "loaded_model1 = joblib.load(model_filename1)\n",
    "new_predictions = loaded_model1.predict(df2)"
   ]
  },
  {
   "cell_type": "code",
   "execution_count": 20,
   "id": "9ec30a6f",
   "metadata": {},
   "outputs": [
    {
     "data": {
      "text/plain": [
       "1"
      ]
     },
     "execution_count": 20,
     "metadata": {},
     "output_type": "execute_result"
    }
   ],
   "source": [
    "new_predictions[0]"
   ]
  },
  {
   "cell_type": "code",
   "execution_count": 21,
   "id": "c5db91b4",
   "metadata": {},
   "outputs": [
    {
     "name": "stdout",
     "output_type": "stream",
     "text": [
      "Criminal\n"
     ]
    }
   ],
   "source": [
    "if new_predictions[0] == 0:\n",
    "    print(\"Non criminal\")\n",
    "else:\n",
    "    print(\"Criminal\")"
   ]
  },
  {
   "cell_type": "code",
   "execution_count": null,
   "id": "c65518ce",
   "metadata": {},
   "outputs": [],
   "source": []
  },
  {
   "cell_type": "code",
   "execution_count": null,
   "id": "dce56e7d",
   "metadata": {},
   "outputs": [],
   "source": []
  },
  {
   "cell_type": "code",
   "execution_count": null,
   "id": "f315e46e",
   "metadata": {},
   "outputs": [],
   "source": []
  },
  {
   "cell_type": "code",
   "execution_count": null,
   "id": "0ee8890b",
   "metadata": {},
   "outputs": [],
   "source": []
  },
  {
   "cell_type": "code",
   "execution_count": null,
   "id": "4e0a1465",
   "metadata": {},
   "outputs": [],
   "source": []
  },
  {
   "cell_type": "code",
   "execution_count": null,
   "id": "0d3ce221",
   "metadata": {},
   "outputs": [],
   "source": []
  },
  {
   "cell_type": "code",
   "execution_count": null,
   "id": "b09f8687",
   "metadata": {},
   "outputs": [],
   "source": []
  },
  {
   "cell_type": "code",
   "execution_count": null,
   "id": "bb738d74",
   "metadata": {},
   "outputs": [],
   "source": []
  },
  {
   "cell_type": "code",
   "execution_count": null,
   "id": "0752892c",
   "metadata": {},
   "outputs": [],
   "source": []
  }
 ],
 "metadata": {
  "kernelspec": {
   "display_name": "Python 3 (ipykernel)",
   "language": "python",
   "name": "python3"
  },
  "language_info": {
   "codemirror_mode": {
    "name": "ipython",
    "version": 3
   },
   "file_extension": ".py",
   "mimetype": "text/x-python",
   "name": "python",
   "nbconvert_exporter": "python",
   "pygments_lexer": "ipython3",
   "version": "3.8.18"
  }
 },
 "nbformat": 4,
 "nbformat_minor": 5
}
